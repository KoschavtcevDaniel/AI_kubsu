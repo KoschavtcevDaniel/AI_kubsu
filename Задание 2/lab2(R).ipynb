{
 "cells": [
  {
   "cell_type": "markdown",
   "id": "9007d2d0",
   "metadata": {},
   "source": [
    "# 2. МЕТОДЫ ИССЛЕДОВАНИЯ ВРЕМЕННЫХ РЯДОВ"
   ]
  },
  {
   "cell_type": "markdown",
   "id": "695210d7",
   "metadata": {},
   "source": [
    "Рассмотрим типичный временной ряд, представленный в языке R набором данных EuStockMarkets. Чтобы понять его, внимательно изучим заголовок набора данных."
   ]
  },
  {
   "cell_type": "code",
   "execution_count": 1,
   "id": "4deac378",
   "metadata": {},
   "outputs": [
    {
     "data": {
      "text/html": [
       "<table class=\"dataframe\">\n",
       "<caption>A matrix: 6 × 4 of type dbl</caption>\n",
       "<thead>\n",
       "\t<tr><th scope=col>DAX</th><th scope=col>SMI</th><th scope=col>CAC</th><th scope=col>FTSE</th></tr>\n",
       "</thead>\n",
       "<tbody>\n",
       "\t<tr><td>1628.75</td><td>1678.1</td><td>1772.8</td><td>2443.6</td></tr>\n",
       "\t<tr><td>1613.63</td><td>1688.5</td><td>1750.5</td><td>2460.2</td></tr>\n",
       "\t<tr><td>1606.51</td><td>1678.6</td><td>1718.0</td><td>2448.2</td></tr>\n",
       "\t<tr><td>1621.04</td><td>1684.1</td><td>1708.1</td><td>2470.4</td></tr>\n",
       "\t<tr><td>1618.16</td><td>1686.6</td><td>1723.1</td><td>2484.7</td></tr>\n",
       "\t<tr><td>1610.61</td><td>1671.6</td><td>1714.3</td><td>2466.8</td></tr>\n",
       "</tbody>\n",
       "</table>\n"
      ],
      "text/latex": [
       "A matrix: 6 × 4 of type dbl\n",
       "\\begin{tabular}{llll}\n",
       " DAX & SMI & CAC & FTSE\\\\\n",
       "\\hline\n",
       "\t 1628.75 & 1678.1 & 1772.8 & 2443.6\\\\\n",
       "\t 1613.63 & 1688.5 & 1750.5 & 2460.2\\\\\n",
       "\t 1606.51 & 1678.6 & 1718.0 & 2448.2\\\\\n",
       "\t 1621.04 & 1684.1 & 1708.1 & 2470.4\\\\\n",
       "\t 1618.16 & 1686.6 & 1723.1 & 2484.7\\\\\n",
       "\t 1610.61 & 1671.6 & 1714.3 & 2466.8\\\\\n",
       "\\end{tabular}\n"
      ],
      "text/markdown": [
       "\n",
       "A matrix: 6 × 4 of type dbl\n",
       "\n",
       "| DAX | SMI | CAC | FTSE |\n",
       "|---|---|---|---|\n",
       "| 1628.75 | 1678.1 | 1772.8 | 2443.6 |\n",
       "| 1613.63 | 1688.5 | 1750.5 | 2460.2 |\n",
       "| 1606.51 | 1678.6 | 1718.0 | 2448.2 |\n",
       "| 1621.04 | 1684.1 | 1708.1 | 2470.4 |\n",
       "| 1618.16 | 1686.6 | 1723.1 | 2484.7 |\n",
       "| 1610.61 | 1671.6 | 1714.3 | 2466.8 |\n",
       "\n"
      ],
      "text/plain": [
       "     DAX     SMI    CAC    FTSE  \n",
       "[1,] 1628.75 1678.1 1772.8 2443.6\n",
       "[2,] 1613.63 1688.5 1750.5 2460.2\n",
       "[3,] 1606.51 1678.6 1718.0 2448.2\n",
       "[4,] 1621.04 1684.1 1708.1 2470.4\n",
       "[5,] 1618.16 1686.6 1723.1 2484.7\n",
       "[6,] 1610.61 1671.6 1714.3 2466.8"
      ]
     },
     "metadata": {},
     "output_type": "display_data"
    }
   ],
   "source": [
    "head (EuStockMarkets)"
   ]
  },
  {
   "cell_type": "markdown",
   "id": "844e331e",
   "metadata": {},
   "source": [
    "Однако в случае временных рядов графики становятся весьма информативным инструментом анализа данных."
   ]
  },
  {
   "cell_type": "code",
   "execution_count": 2,
   "id": "f54d231f",
   "metadata": {},
   "outputs": [
    {
     "data": {
      "image/png": "[encoded data removed]",
      "text/plain": [
       "plot without title"
      ]
     },
     "metadata": {
      "image/png": {
       "height": 420,
       "width": 420
      }
     },
     "output_type": "display_data"
    }
   ],
   "source": [
    "plot(EuStockMarkets)"
   ]
  },
  {
   "cell_type": "markdown",
   "id": "eb4ae45a",
   "metadata": {},
   "source": [
    "Перед визуализацией с помощью простой команды plot() данные автоматически разделяются на несколько временных рядов. И все благодаря использованию в языке R встроенного объекта mts (в противоположность объекту ts, обеспечивающего визуализацию только одного временного ряда)."
   ]
  },
  {
   "cell_type": "code",
   "execution_count": 3,
   "id": "6c24fc60",
   "metadata": {},
   "outputs": [
    {
     "data": {
      "text/html": [
       "<style>\n",
       ".list-inline {list-style: none; margin:0; padding: 0}\n",
       ".list-inline>li {display: inline-block}\n",
       ".list-inline>li:not(:last-child)::after {content: \"\\00b7\"; padding: 0 .5ex}\n",
       "</style>\n",
       "<ol class=list-inline><li>'mts'</li><li>'ts'</li><li>'matrix'</li><li>'array'</li></ol>\n"
      ],
      "text/latex": [
       "\\begin{enumerate*}\n",
       "\\item 'mts'\n",
       "\\item 'ts'\n",
       "\\item 'matrix'\n",
       "\\item 'array'\n",
       "\\end{enumerate*}\n"
      ],
      "text/markdown": [
       "1. 'mts'\n",
       "2. 'ts'\n",
       "3. 'matrix'\n",
       "4. 'array'\n",
       "\n",
       "\n"
      ],
      "text/plain": [
       "[1] \"mts\"    \"ts\"     \"matrix\" \"array\" "
      ]
     },
     "metadata": {},
     "output_type": "display_data"
    }
   ],
   "source": [
    "class (EuStockMarkets)"
   ]
  },
  {
   "cell_type": "markdown",
   "id": "8cb97ef5",
   "metadata": {},
   "source": [
    " frequency (). Определяет годовую частоту данных."
   ]
  },
  {
   "cell_type": "code",
   "execution_count": 4,
   "id": "80f82fdc",
   "metadata": {},
   "outputs": [
    {
     "data": {
      "text/html": [
       "260"
      ],
      "text/latex": [
       "260"
      ],
      "text/markdown": [
       "260"
      ],
      "text/plain": [
       "[1] 260"
      ]
     },
     "metadata": {},
     "output_type": "display_data"
    }
   ],
   "source": [
    "frequency(EuStockMarkets)"
   ]
  },
  {
   "cell_type": "markdown",
   "id": "48f36848",
   "metadata": {},
   "source": [
    "start () и end (). Устанавливают начальную и конечную временные метки\n",
    "ряда.\n"
   ]
  },
  {
   "cell_type": "code",
   "execution_count": 5,
   "id": "46f5e73f",
   "metadata": {},
   "outputs": [
    {
     "data": {
      "text/html": [
       "<style>\n",
       ".list-inline {list-style: none; margin:0; padding: 0}\n",
       ".list-inline>li {display: inline-block}\n",
       ".list-inline>li:not(:last-child)::after {content: \"\\00b7\"; padding: 0 .5ex}\n",
       "</style>\n",
       "<ol class=list-inline><li>1991</li><li>130</li></ol>\n"
      ],
      "text/latex": [
       "\\begin{enumerate*}\n",
       "\\item 1991\n",
       "\\item 130\n",
       "\\end{enumerate*}\n"
      ],
      "text/markdown": [
       "1. 1991\n",
       "2. 130\n",
       "\n",
       "\n"
      ],
      "text/plain": [
       "[1] 1991  130"
      ]
     },
     "metadata": {},
     "output_type": "display_data"
    }
   ],
   "source": [
    "start(EuStockMarkets)"
   ]
  },
  {
   "cell_type": "code",
   "execution_count": 6,
   "id": "e623fed1",
   "metadata": {},
   "outputs": [
    {
     "data": {
      "text/html": [
       "<style>\n",
       ".list-inline {list-style: none; margin:0; padding: 0}\n",
       ".list-inline>li {display: inline-block}\n",
       ".list-inline>li:not(:last-child)::after {content: \"\\00b7\"; padding: 0 .5ex}\n",
       "</style>\n",
       "<ol class=list-inline><li>1998</li><li>169</li></ol>\n"
      ],
      "text/latex": [
       "\\begin{enumerate*}\n",
       "\\item 1998\n",
       "\\item 169\n",
       "\\end{enumerate*}\n"
      ],
      "text/markdown": [
       "1. 1998\n",
       "2. 169\n",
       "\n",
       "\n"
      ],
      "text/plain": [
       "[1] 1998  169"
      ]
     },
     "metadata": {},
     "output_type": "display_data"
    }
   ],
   "source": [
    "end(EuStockMarkets)"
   ]
  },
  {
   "cell_type": "markdown",
   "id": "839621bb",
   "metadata": {},
   "source": [
    "window (). Задает временной период ряда данных."
   ]
  },
  {
   "cell_type": "code",
   "execution_count": 7,
   "id": "19dd29f7",
   "metadata": {},
   "outputs": [
    {
     "data": {
      "text/html": [
       "<table class=\"dataframe\">\n",
       "<caption>A Time Series: 261 × 4</caption>\n",
       "<thead>\n",
       "\t<tr><th></th><th scope=col>DAX</th><th scope=col>SMI</th><th scope=col>CAC</th><th scope=col>FTSE</th></tr>\n",
       "</thead>\n",
       "<tbody>\n",
       "\t<tr><th scope=row>1997.000</th><td>2844.09</td><td>3869.8</td><td>2289.6</td><td>4092.5</td></tr>\n",
       "\t<tr><th scope=row>1997.004</th><td>2844.09</td><td>3869.8</td><td>2289.6</td><td>4092.5</td></tr>\n",
       "\t<tr><th scope=row>1997.008</th><td>2844.09</td><td>3869.8</td><td>2303.8</td><td>4092.5</td></tr>\n",
       "\t<tr><th scope=row>1997.012</th><td>2859.22</td><td>3922.2</td><td>2307.0</td><td>4091.0</td></tr>\n",
       "\t<tr><th scope=row>1997.015</th><td>2880.07</td><td>3948.3</td><td>2318.6</td><td>4115.7</td></tr>\n",
       "\t<tr><th scope=row>1997.019</th><td>2880.07</td><td>3942.2</td><td>2315.7</td><td>4118.5</td></tr>\n",
       "\t<tr><th scope=row>1997.023</th><td>2880.07</td><td>3942.2</td><td>2315.7</td><td>4118.5</td></tr>\n",
       "\t<tr><th scope=row>1997.027</th><td>2820.81</td><td>3942.2</td><td>2257.0</td><td>4057.4</td></tr>\n",
       "\t<tr><th scope=row>1997.031</th><td>2863.26</td><td>3940.1</td><td>2282.8</td><td>4089.5</td></tr>\n",
       "\t<tr><th scope=row>1997.035</th><td>2890.20</td><td>3923.8</td><td>2306.7</td><td>4106.5</td></tr>\n",
       "\t<tr><th scope=row>1997.038</th><td>2876.34</td><td>3922.9</td><td>2301.7</td><td>4078.8</td></tr>\n",
       "\t<tr><th scope=row>1997.042</th><td>2904.08</td><td>3944.9</td><td>2331.6</td><td>4087.5</td></tr>\n",
       "\t<tr><th scope=row>1997.046</th><td>2936.69</td><td>3966.2</td><td>2349.1</td><td>4087.0</td></tr>\n",
       "\t<tr><th scope=row>1997.050</th><td>2915.81</td><td>3947.4</td><td>2327.5</td><td>4056.6</td></tr>\n",
       "\t<tr><th scope=row>1997.054</th><td>2956.78</td><td>3975.5</td><td>2361.3</td><td>4107.3</td></tr>\n",
       "\t<tr><th scope=row>1997.058</th><td>2978.84</td><td>3983.6</td><td>2402.1</td><td>4168.2</td></tr>\n",
       "\t<tr><th scope=row>1997.062</th><td>2976.56</td><td>3979.6</td><td>2388.0</td><td>4158.9</td></tr>\n",
       "\t<tr><th scope=row>1997.065</th><td>2996.12</td><td>4007.1</td><td>2407.8</td><td>4197.5</td></tr>\n",
       "\t<tr><th scope=row>1997.069</th><td>3006.87</td><td>4019.9</td><td>2425.1</td><td>4207.7</td></tr>\n",
       "\t<tr><th scope=row>1997.073</th><td>2999.19</td><td>4009.5</td><td>2406.1</td><td>4194.0</td></tr>\n",
       "\t<tr><th scope=row>1997.077</th><td>3000.66</td><td>4023.1</td><td>2409.9</td><td>4195.5</td></tr>\n",
       "\t<tr><th scope=row>1997.081</th><td>3026.63</td><td>4115.4</td><td>2442.5</td><td>4219.1</td></tr>\n",
       "\t<tr><th scope=row>1997.085</th><td>3037.28</td><td>4161.0</td><td>2461.3</td><td>4219.1</td></tr>\n",
       "\t<tr><th scope=row>1997.088</th><td>2982.63</td><td>4125.5</td><td>2430.3</td><td>4218.8</td></tr>\n",
       "\t<tr><th scope=row>1997.092</th><td>2992.55</td><td>4127.3</td><td>2435.2</td><td>4212.0</td></tr>\n",
       "\t<tr><th scope=row>1997.096</th><td>3028.27</td><td>4182.3</td><td>2482.8</td><td>4237.4</td></tr>\n",
       "\t<tr><th scope=row>1997.100</th><td>2997.95</td><td>4169.7</td><td>2465.0</td><td>4207.5</td></tr>\n",
       "\t<tr><th scope=row>1997.104</th><td>3018.58</td><td>4209.1</td><td>2503.1</td><td>4228.4</td></tr>\n",
       "\t<tr><th scope=row>1997.108</th><td>3037.70</td><td>4272.2</td><td>2516.6</td><td>4275.8</td></tr>\n",
       "\t<tr><th scope=row>1997.112</th><td>3064.70</td><td>4282.8</td><td>2508.6</td><td>4257.8</td></tr>\n",
       "\t<tr><th scope=row>1997.115</th><td>3067.48</td><td>4296.5</td><td>2503.1</td><td>4260.9</td></tr>\n",
       "\t<tr><th scope=row>1997.119</th><td>3114.73</td><td>4305.5</td><td>2541.3</td><td>4281.5</td></tr>\n",
       "\t<tr><th scope=row>1997.123</th><td>3124.78</td><td>4309.8</td><td>2558.4</td><td>4265.9</td></tr>\n",
       "\t<tr><th scope=row>1997.127</th><td>3161.36</td><td>4357.9</td><td>2597.5</td><td>4307.8</td></tr>\n",
       "\t<tr><th scope=row>1997.131</th><td>3185.72</td><td>4384.3</td><td>2595.4</td><td>4307.7</td></tr>\n",
       "\t<tr><th scope=row>1997.135</th><td>3191.45</td><td>4408.4</td><td>2582.1</td><td>4304.3</td></tr>\n",
       "\t<tr><th scope=row>1997.138</th><td>3211.01</td><td>4444.1</td><td>2599.3</td><td>4304.3</td></tr>\n",
       "\t<tr><th scope=row>1997.142</th><td>3256.86</td><td>4436.3</td><td>2628.4</td><td>4327.1</td></tr>\n",
       "\t<tr><th scope=row>1997.146</th><td>3249.17</td><td>4464.2</td><td>2627.4</td><td>4341.0</td></tr>\n",
       "\t<tr><th scope=row>1997.150</th><td>3260.30</td><td>4514.6</td><td>2634.5</td><td>4337.8</td></tr>\n",
       "\t<tr><th scope=row>1997.154</th><td>3230.83</td><td>4490.7</td><td>2617.5</td><td>4332.3</td></tr>\n",
       "\t<tr><th scope=row>1997.158</th><td>3209.04</td><td>4525.5</td><td>2594.8</td><td>4357.4</td></tr>\n",
       "\t<tr><th scope=row>1997.162</th><td>3197.09</td><td>4530.8</td><td>2575.2</td><td>4356.1</td></tr>\n",
       "\t<tr><th scope=row>1997.165</th><td>3203.79</td><td>4522.5</td><td>2562.8</td><td>4336.8</td></tr>\n",
       "\t<tr><th scope=row>1997.169</th><td>3180.63</td><td>4463.2</td><td>2567.9</td><td>4331.1</td></tr>\n",
       "\t<tr><th scope=row>1997.173</th><td>3233.34</td><td>4503.9</td><td>2607.7</td><td>4344.7</td></tr>\n",
       "\t<tr><th scope=row>1997.177</th><td>3245.02</td><td>4539.0</td><td>2602.2</td><td>4329.3</td></tr>\n",
       "\t<tr><th scope=row>1997.181</th><td>3272.58</td><td>4519.7</td><td>2629.4</td><td>4339.2</td></tr>\n",
       "\t<tr><th scope=row>1997.185</th><td>3261.04</td><td>4487.6</td><td>2607.8</td><td>4308.3</td></tr>\n",
       "\t<tr><th scope=row>1997.188</th><td>3258.74</td><td>4460.1</td><td>2600.3</td><td>4307.1</td></tr>\n",
       "\t<tr><th scope=row>1997.192</th><td>3345.09</td><td>4513.7</td><td>2651.7</td><td>4357.7</td></tr>\n",
       "\t<tr><th scope=row>1997.196</th><td>3375.45</td><td>4547.1</td><td>2666.2</td><td>4360.1</td></tr>\n",
       "\t<tr><th scope=row>1997.200</th><td>3396.55</td><td>4605.2</td><td>2698.9</td><td>4399.3</td></tr>\n",
       "\t<tr><th scope=row>1997.204</th><td>3419.51</td><td>4638.9</td><td>2708.3</td><td>4420.3</td></tr>\n",
       "\t<tr><th scope=row>1997.208</th><td>3426.77</td><td>4684.4</td><td>2709.2</td><td>4437.4</td></tr>\n",
       "\t<tr><th scope=row>1997.212</th><td>3430.95</td><td>4677.1</td><td>2686.2</td><td>4444.3</td></tr>\n",
       "\t<tr><th scope=row>1997.215</th><td>3382.40</td><td>4676.2</td><td>2641.7</td><td>4422.5</td></tr>\n",
       "\t<tr><th scope=row>1997.219</th><td>3367.82</td><td>4609.9</td><td>2632.1</td><td>4397.7</td></tr>\n",
       "\t<tr><th scope=row>1997.223</th><td>3404.29</td><td>4636.2</td><td>2645.6</td><td>4424.3</td></tr>\n",
       "\t<tr><th scope=row>1997.227</th><td>3337.11</td><td>4556.5</td><td>2588.4</td><td>4373.3</td></tr>\n",
       "\t<tr><th scope=row>1997.231</th><td>3289.59</td><td>4519.9</td><td>2574.0</td><td>4356.8</td></tr>\n",
       "\t<tr><th scope=row>1997.235</th><td>3305.72</td><td>4535.1</td><td>2596.8</td><td>4332.2</td></tr>\n",
       "\t<tr><th scope=row>1997.238</th><td>3247.03</td><td>4442.9</td><td>2553.7</td><td>4258.1</td></tr>\n",
       "\t<tr><th scope=row>1997.242</th><td>3288.52</td><td>4491.3</td><td>2587.1</td><td>4254.8</td></tr>\n",
       "\t<tr><th scope=row>1997.246</th><td>3302.57</td><td>4497.3</td><td>2579.3</td><td>4214.8</td></tr>\n",
       "\t<tr><th scope=row>1997.250</th><td>3374.93</td><td>4558.6</td><td>2624.3</td><td>4270.7</td></tr>\n",
       "\t<tr><th scope=row>1997.254</th><td>3439.22</td><td>4620.5</td><td>2648.7</td><td>4301.5</td></tr>\n",
       "\t<tr><th scope=row>1997.258</th><td>3407.83</td><td>4659.2</td><td>2656.7</td><td>4312.9</td></tr>\n",
       "\t<tr><th scope=row>1997.262</th><td>3407.83</td><td>4659.2</td><td>2656.7</td><td>4312.9</td></tr>\n",
       "\t<tr><th scope=row>1997.265</th><td>3407.83</td><td>4659.2</td><td>2656.7</td><td>4312.9</td></tr>\n",
       "\t<tr><th scope=row>1997.269</th><td>3281.46</td><td>4501.7</td><td>2581.8</td><td>4248.1</td></tr>\n",
       "\t<tr><th scope=row>1997.273</th><td>3210.94</td><td>4488.7</td><td>2530.3</td><td>4236.6</td></tr>\n",
       "\t<tr><th scope=row>1997.277</th><td>3212.82</td><td>4463.9</td><td>2514.5</td><td>4214.6</td></tr>\n",
       "\t<tr><th scope=row>1997.281</th><td>3235.35</td><td>4471.5</td><td>2518.0</td><td>4236.6</td></tr>\n",
       "\t<tr><th scope=row>1997.285</th><td>3342.77</td><td>4588.0</td><td>2572.3</td><td>4271.7</td></tr>\n",
       "\t<tr><th scope=row>1997.288</th><td>3328.13</td><td>4582.6</td><td>2579.0</td><td>4269.3</td></tr>\n",
       "\t<tr><th scope=row>1997.292</th><td>3364.76</td><td>4634.9</td><td>2617.6</td><td>4292.3</td></tr>\n",
       "\t<tr><th scope=row>1997.296</th><td>3352.58</td><td>4626.6</td><td>2608.0</td><td>4313.2</td></tr>\n",
       "\t<tr><th scope=row>1997.300</th><td>3319.24</td><td>4604.2</td><td>2574.6</td><td>4270.7</td></tr>\n",
       "\t<tr><th scope=row>1997.304</th><td>3297.52</td><td>4586.3</td><td>2566.1</td><td>4251.7</td></tr>\n",
       "\t<tr><th scope=row>1997.308</th><td>3369.26</td><td>4643.4</td><td>2620.6</td><td>4286.8</td></tr>\n",
       "\t<tr><th scope=row>1997.312</th><td>3347.54</td><td>4625.6</td><td>2621.0</td><td>4294.6</td></tr>\n",
       "\t<tr><th scope=row>1997.315</th><td>3361.80</td><td>4665.7</td><td>2615.2</td><td>4298.9</td></tr>\n",
       "\t<tr><th scope=row>1997.319</th><td>3361.20</td><td>4699.1</td><td>2547.6</td><td>4310.5</td></tr>\n",
       "\t<tr><th scope=row>1997.323</th><td>3328.41</td><td>4740.1</td><td>2522.7</td><td>4328.7</td></tr>\n",
       "\t<tr><th scope=row>1997.327</th><td>3348.90</td><td>4752.3</td><td>2514.7</td><td>4346.1</td></tr>\n",
       "\t<tr><th scope=row>1997.331</th><td>3366.87</td><td>4781.1</td><td>2533.6</td><td>4387.7</td></tr>\n",
       "\t<tr><th scope=row>1997.335</th><td>3396.49</td><td>4836.1</td><td>2539.8</td><td>4388.5</td></tr>\n",
       "\t<tr><th scope=row>1997.338</th><td>3357.57</td><td>4772.3</td><td>2536.3</td><td>4369.7</td></tr>\n",
       "\t<tr><th scope=row>1997.342</th><td>3372.96</td><td>4793.3</td><td>2550.3</td><td>4389.7</td></tr>\n",
       "\t<tr><th scope=row>1997.346</th><td>3425.86</td><td>4855.1</td><td>2602.9</td><td>4433.2</td></tr>\n",
       "\t<tr><th scope=row>1997.350</th><td>3438.09</td><td>4897.6</td><td>2639.5</td><td>4436.0</td></tr>\n",
       "\t<tr><th scope=row>1997.354</th><td>3438.09</td><td>4897.6</td><td>2639.5</td><td>4445.0</td></tr>\n",
       "\t<tr><th scope=row>1997.358</th><td>3491.08</td><td>4953.5</td><td>2655.3</td><td>4455.6</td></tr>\n",
       "\t<tr><th scope=row>1997.362</th><td>3565.69</td><td>5029.6</td><td>2672.8</td><td>4455.6</td></tr>\n",
       "\t<tr><th scope=row>1997.365</th><td>3548.52</td><td>4988.4</td><td>2651.9</td><td>4519.3</td></tr>\n",
       "\t<tr><th scope=row>1997.369</th><td>3537.45</td><td>5016.0</td><td>2643.3</td><td>4537.5</td></tr>\n",
       "\t<tr><th scope=row>1997.373</th><td>3537.45</td><td>5016.0</td><td>2643.3</td><td>4580.4</td></tr>\n",
       "\t<tr><th scope=row>1997.377</th><td>3533.21</td><td>5004.7</td><td>2633.9</td><td>4630.9</td></tr>\n",
       "\t<tr><th scope=row>1997.381</th><td>3593.14</td><td>5042.5</td><td>2693.1</td><td>4669.6</td></tr>\n",
       "\t<tr><th scope=row>1997.385</th><td>3559.29</td><td>5084.2</td><td>2719.6</td><td>4691.0</td></tr>\n",
       "\t<tr><th scope=row>1997.388</th><td>3588.57</td><td>5134.3</td><td>2774.6</td><td>4686.9</td></tr>\n",
       "\t<tr><th scope=row>1997.392</th><td>3564.85</td><td>5141.7</td><td>2776.0</td><td>4681.2</td></tr>\n",
       "\t<tr><th scope=row>1997.396</th><td>3569.26</td><td>5157.5</td><td>2784.3</td><td>4693.9</td></tr>\n",
       "\t<tr><th scope=row>1997.400</th><td>3569.26</td><td>5157.5</td><td>2784.3</td><td>4645.2</td></tr>\n",
       "\t<tr><th scope=row>1997.404</th><td>3516.20</td><td>5081.0</td><td>2751.1</td><td>4607.5</td></tr>\n",
       "\t<tr><th scope=row>1997.408</th><td>3600.40</td><td>5178.6</td><td>2786.4</td><td>4642.0</td></tr>\n",
       "\t<tr><th scope=row>1997.412</th><td>3575.44</td><td>5176.4</td><td>2741.7</td><td>4651.8</td></tr>\n",
       "\t<tr><th scope=row>1997.415</th><td>3621.72</td><td>5181.0</td><td>2762.9</td><td>4661.8</td></tr>\n",
       "\t<tr><th scope=row>1997.419</th><td>3669.31</td><td>5196.7</td><td>2654.7</td><td>4661.8</td></tr>\n",
       "\t<tr><th scope=row>1997.423</th><td>3665.43</td><td>5190.0</td><td>2680.3</td><td>4681.6</td></tr>\n",
       "\t<tr><th scope=row>1997.427</th><td>3626.60</td><td>5133.1</td><td>2583.2</td><td>4677.5</td></tr>\n",
       "\t<tr><th scope=row>1997.431</th><td>3635.38</td><td>5132.1</td><td>2579.2</td><td>4672.3</td></tr>\n",
       "\t<tr><th scope=row>1997.435</th><td>3562.73</td><td>5041.6</td><td>2583.9</td><td>4621.3</td></tr>\n",
       "\t<tr><th scope=row>1997.438</th><td>3596.40</td><td>5150.0</td><td>2601.5</td><td>4562.8</td></tr>\n",
       "\t<tr><th scope=row>1997.442</th><td>3655.59</td><td>5207.2</td><td>2624.5</td><td>4557.8</td></tr>\n",
       "\t<tr><th scope=row>1997.446</th><td>3651.59</td><td>5238.5</td><td>2635.4</td><td>4557.1</td></tr>\n",
       "\t<tr><th scope=row>1997.450</th><td>3684.60</td><td>5251.2</td><td>2690.9</td><td>4576.2</td></tr>\n",
       "\t<tr><th scope=row>1997.454</th><td>3700.53</td><td>5320.0</td><td>2719.3</td><td>4645.0</td></tr>\n",
       "\t<tr><th scope=row>1997.458</th><td>3668.61</td><td>5368.8</td><td>2686.2</td><td>4686.7</td></tr>\n",
       "\t<tr><th scope=row>1997.462</th><td>3671.16</td><td>5361.9</td><td>2664.2</td><td>4739.6</td></tr>\n",
       "\t<tr><th scope=row>1997.465</th><td>3671.87</td><td>5308.6</td><td>2696.2</td><td>4724.8</td></tr>\n",
       "\t<tr><th scope=row>1997.469</th><td>3737.16</td><td>5364.2</td><td>2760.3</td><td>4757.4</td></tr>\n",
       "\t<tr><th scope=row>1997.473</th><td>3752.37</td><td>5384.6</td><td>2808.5</td><td>4783.1</td></tr>\n",
       "\t<tr><th scope=row>1997.477</th><td>3750.02</td><td>5362.0</td><td>2795.9</td><td>4745.1</td></tr>\n",
       "\t<tr><th scope=row>1997.481</th><td>3721.18</td><td>5345.9</td><td>2762.6</td><td>4682.2</td></tr>\n",
       "\t<tr><th scope=row>1997.485</th><td>3730.56</td><td>5405.0</td><td>2751.7</td><td>4657.0</td></tr>\n",
       "\t<tr><th scope=row>1997.488</th><td>3777.56</td><td>5510.3</td><td>2739.7</td><td>4653.7</td></tr>\n",
       "\t<tr><th scope=row>1997.492</th><td>3788.54</td><td>5561.8</td><td>2757.1</td><td>4593.9</td></tr>\n",
       "\t<tr><th scope=row>1997.496</th><td>3748.79</td><td>5587.8</td><td>2762.2</td><td>4575.8</td></tr>\n",
       "\t<tr><th scope=row>1997.500</th><td>3761.07</td><td>5576.1</td><td>2784.8</td><td>4596.3</td></tr>\n",
       "\t<tr><th scope=row>1997.504</th><td>3819.52</td><td>5662.4</td><td>2867.4</td><td>4640.0</td></tr>\n",
       "\t<tr><th scope=row>1997.508</th><td>3820.16</td><td>5669.9</td><td>2893.6</td><td>4657.9</td></tr>\n",
       "\t<tr><th scope=row>1997.512</th><td>3809.92</td><td>5700.3</td><td>2891.0</td><td>4640.3</td></tr>\n",
       "\t<tr><th scope=row>1997.515</th><td>3766.89</td><td>5620.6</td><td>2858.3</td><td>4604.6</td></tr>\n",
       "\t<tr><th scope=row>1997.519</th><td>3834.84</td><td>5654.8</td><td>2944.0</td><td>4728.3</td></tr>\n",
       "\t<tr><th scope=row>1997.523</th><td>3867.53</td><td>5674.3</td><td>2909.5</td><td>4751.4</td></tr>\n",
       "\t<tr><th scope=row>1997.527</th><td>3939.73</td><td>5804.9</td><td>2937.0</td><td>4831.7</td></tr>\n",
       "\t<tr><th scope=row>1997.531</th><td>3946.73</td><td>5846.5</td><td>2934.5</td><td>4812.8</td></tr>\n",
       "\t<tr><th scope=row>1997.535</th><td>4003.35</td><td>5947.0</td><td>2947.7</td><td>4810.7</td></tr>\n",
       "\t<tr><th scope=row>1997.538</th><td>4030.10</td><td>6012.6</td><td>2929.8</td><td>4758.5</td></tr>\n",
       "\t<tr><th scope=row>1997.542</th><td>4026.97</td><td>5977.1</td><td>2950.6</td><td>4762.4</td></tr>\n",
       "\t<tr><th scope=row>1997.546</th><td>4000.65</td><td>5885.4</td><td>2929.1</td><td>4767.8</td></tr>\n",
       "\t<tr><th scope=row>1997.550</th><td>4074.30</td><td>5801.5</td><td>2941.6</td><td>4799.5</td></tr>\n",
       "\t<tr><th scope=row>1997.554</th><td>4142.19</td><td>5845.8</td><td>2941.6</td><td>4857.4</td></tr>\n",
       "\t<tr><th scope=row>1997.558</th><td>4139.68</td><td>5844.7</td><td>2950.7</td><td>4899.3</td></tr>\n",
       "\t<tr><th scope=row>1997.562</th><td>4223.69</td><td>5927.5</td><td>2988.0</td><td>4964.2</td></tr>\n",
       "\t<tr><th scope=row>1997.565</th><td>4203.91</td><td>5868.3</td><td>2958.6</td><td>4949.0</td></tr>\n",
       "\t<tr><th scope=row>1997.569</th><td>4131.94</td><td>5737.1</td><td>2876.7</td><td>4877.2</td></tr>\n",
       "\t<tr><th scope=row>1997.573</th><td>4139.96</td><td>5620.5</td><td>2874.1</td><td>4805.7</td></tr>\n",
       "\t<tr><th scope=row>1997.577</th><td>4297.64</td><td>5677.1</td><td>2921.1</td><td>4846.7</td></tr>\n",
       "\t<tr><th scope=row>1997.581</th><td>4384.82</td><td>5869.9</td><td>3003.5</td><td>4874.5</td></tr>\n",
       "\t<tr><th scope=row>1997.585</th><td>4320.52</td><td>5849.2</td><td>2973.5</td><td>4862.9</td></tr>\n",
       "\t<tr><th scope=row>1997.588</th><td>4368.54</td><td>5847.0</td><td>3025.9</td><td>4851.5</td></tr>\n",
       "\t<tr><th scope=row>1997.592</th><td>4400.30</td><td>5888.0</td><td>3022.2</td><td>4862.6</td></tr>\n",
       "\t<tr><th scope=row>1997.596</th><td>4377.70</td><td>5842.1</td><td>3023.6</td><td>4876.6</td></tr>\n",
       "\t<tr><th scope=row>1997.600</th><td>4458.66</td><td>5929.5</td><td>3069.3</td><td>4927.3</td></tr>\n",
       "\t<tr><th scope=row>1997.604</th><td>4405.52</td><td>5898.2</td><td>3075.7</td><td>4907.5</td></tr>\n",
       "\t<tr><th scope=row>1997.608</th><td>4336.98</td><td>5898.2</td><td>3049.5</td><td>4899.3</td></tr>\n",
       "\t<tr><th scope=row>1997.612</th><td>4302.50</td><td>5771.0</td><td>2992.4</td><td>4895.7</td></tr>\n",
       "\t<tr><th scope=row>1997.615</th><td>4325.86</td><td>5765.2</td><td>2984.1</td><td>4960.6</td></tr>\n",
       "\t<tr><th scope=row>1997.619</th><td>4364.25</td><td>5812.1</td><td>3037.1</td><td>5026.2</td></tr>\n",
       "\t<tr><th scope=row>1997.623</th><td>4428.08</td><td>5922.1</td><td>3056.3</td><td>5086.8</td></tr>\n",
       "\t<tr><th scope=row>1997.627</th><td>4342.31</td><td>5864.8</td><td>2996.3</td><td>5031.3</td></tr>\n",
       "\t<tr><th scope=row>1997.631</th><td>4333.15</td><td>5825.6</td><td>2983.4</td><td>5031.9</td></tr>\n",
       "\t<tr><th scope=row>1997.635</th><td>4377.51</td><td>5808.4</td><td>2998.6</td><td>5075.8</td></tr>\n",
       "\t<tr><th scope=row>1997.638</th><td>4237.06</td><td>5682.1</td><td>2924.0</td><td>5003.6</td></tr>\n",
       "\t<tr><th scope=row>1997.642</th><td>4195.53</td><td>5579.5</td><td>2921.8</td><td>4991.3</td></tr>\n",
       "\t<tr><th scope=row>1997.646</th><td>4077.59</td><td>5498.5</td><td>2921.8</td><td>4865.8</td></tr>\n",
       "\t<tr><th scope=row>1997.650</th><td>4080.55</td><td>5405.6</td><td>2870.1</td><td>4835.0</td></tr>\n",
       "\t<tr><th scope=row>1997.654</th><td>4190.45</td><td>5580.1</td><td>2936.2</td><td>4914.2</td></tr>\n",
       "\t<tr><th scope=row>1997.658</th><td>4251.93</td><td>5690.1</td><td>2979.3</td><td>4958.4</td></tr>\n",
       "\t<tr><th scope=row>1997.662</th><td>4204.81</td><td>5668.8</td><td>2957.2</td><td>4978.0</td></tr>\n",
       "\t<tr><th scope=row>1997.665</th><td>4090.14</td><td>5475.8</td><td>2904.2</td><td>4901.1</td></tr>\n",
       "\t<tr><th scope=row>1997.669</th><td>4076.75</td><td>5473.9</td><td>2898.6</td><td>4901.1</td></tr>\n",
       "\t<tr><th scope=row>1997.673</th><td>3993.70</td><td>5363.3</td><td>2869.3</td><td>4886.3</td></tr>\n",
       "\t<tr><th scope=row>1997.677</th><td>3992.03</td><td>5409.6</td><td>2871.7</td><td>4906.9</td></tr>\n",
       "\t<tr><th scope=row>1997.681</th><td>3897.43</td><td>5217.3</td><td>2828.4</td><td>4845.4</td></tr>\n",
       "\t<tr><th scope=row>1997.685</th><td>3919.79</td><td>5216.7</td><td>2770.5</td><td>4817.5</td></tr>\n",
       "\t<tr><th scope=row>1997.688</th><td>4001.81</td><td>5271.5</td><td>2805.8</td><td>4870.2</td></tr>\n",
       "\t<tr><th scope=row>1997.692</th><td>4127.28</td><td>5447.5</td><td>2921.2</td><td>4952.2</td></tr>\n",
       "\t<tr><th scope=row>1997.696</th><td>4062.13</td><td>5478.6</td><td>2918.0</td><td>4976.9</td></tr>\n",
       "\t<tr><th scope=row>1997.700</th><td>4093.43</td><td>5478.1</td><td>2927.0</td><td>4991.3</td></tr>\n",
       "\t<tr><th scope=row>1997.704</th><td>4073.71</td><td>5532.9</td><td>2924.5</td><td>4994.2</td></tr>\n",
       "\t<tr><th scope=row>1997.708</th><td>4131.26</td><td>5505.3</td><td>2940.9</td><td>4985.2</td></tr>\n",
       "\t<tr><th scope=row>1997.712</th><td>4104.57</td><td>5445.1</td><td>2919.7</td><td>4950.5</td></tr>\n",
       "\t<tr><th scope=row>1997.715</th><td>4028.00</td><td>5356.7</td><td>2874.6</td><td>4905.2</td></tr>\n",
       "\t<tr><th scope=row>1997.719</th><td>3890.24</td><td>5280.8</td><td>2843.6</td><td>4854.8</td></tr>\n",
       "\t<tr><th scope=row>1997.723</th><td>3796.61</td><td>5281.9</td><td>2834.1</td><td>4848.2</td></tr>\n",
       "\t<tr><th scope=row>1997.727</th><td>3869.53</td><td>5321.7</td><td>2898.6</td><td>4902.9</td></tr>\n",
       "\t<tr><th scope=row>1997.731</th><td>3995.69</td><td>5417.8</td><td>2940.6</td><td>4976.4</td></tr>\n",
       "\t<tr><th scope=row>1997.735</th><td>3970.44</td><td>5550.4</td><td>2944.0</td><td>5013.1</td></tr>\n",
       "\t<tr><th scope=row>1997.738</th><td>4004.04</td><td>5629.0</td><td>2978.4</td><td>5046.2</td></tr>\n",
       "\t<tr><th scope=row>1997.742</th><td>3983.06</td><td>5611.0</td><td>2977.2</td><td>5023.8</td></tr>\n",
       "\t<tr><th scope=row>1997.746</th><td>4096.85</td><td>5705.1</td><td>3017.5</td><td>5075.7</td></tr>\n",
       "\t<tr><th scope=row>1997.750</th><td>4091.77</td><td>5730.4</td><td>2997.2</td><td>5027.5</td></tr>\n",
       "\t<tr><th scope=row>1997.754</th><td>4150.95</td><td>5732.5</td><td>3023.7</td><td>5077.2</td></tr>\n",
       "\t<tr><th scope=row>1997.758</th><td>4104.93</td><td>5667.1</td><td>3005.4</td><td>5065.5</td></tr>\n",
       "\t<tr><th scope=row>1997.762</th><td>4135.09</td><td>5716.6</td><td>2985.6</td><td>5226.3</td></tr>\n",
       "\t<tr><th scope=row>1997.765</th><td>4116.52</td><td>5691.8</td><td>2989.0</td><td>5220.3</td></tr>\n",
       "\t<tr><th scope=row>1997.769</th><td>4154.89</td><td>5673.6</td><td>3008.3</td><td>5244.2</td></tr>\n",
       "\t<tr><th scope=row>1997.773</th><td>4262.98</td><td>5754.7</td><td>3054.9</td><td>5317.1</td></tr>\n",
       "\t<tr><th scope=row>1997.777</th><td>4266.17</td><td>5825.0</td><td>3052.1</td><td>5296.1</td></tr>\n",
       "\t<tr><th scope=row>1997.781</th><td>4266.17</td><td>5929.0</td><td>3094.0</td><td>5330.8</td></tr>\n",
       "\t<tr><th scope=row>1997.785</th><td>4326.35</td><td>5897.4</td><td>3078.0</td><td>5300.0</td></tr>\n",
       "\t<tr><th scope=row>1997.788</th><td>4311.13</td><td>5846.9</td><td>3064.4</td><td>5305.6</td></tr>\n",
       "\t<tr><th scope=row>1997.792</th><td>4267.40</td><td>5822.3</td><td>3024.1</td><td>5262.1</td></tr>\n",
       "\t<tr><th scope=row>1997.796</th><td>4179.92</td><td>5732.2</td><td>2960.7</td><td>5217.8</td></tr>\n",
       "\t<tr><th scope=row>1997.800</th><td>4164.62</td><td>5699.5</td><td>2955.1</td><td>5227.3</td></tr>\n",
       "\t<tr><th scope=row>1997.804</th><td>4225.27</td><td>5792.8</td><td>3002.9</td><td>5300.1</td></tr>\n",
       "\t<tr><th scope=row>1997.808</th><td>4215.23</td><td>5836.3</td><td>3002.5</td><td>5298.9</td></tr>\n",
       "\t<tr><th scope=row>1997.812</th><td>4168.62</td><td>5815.9</td><td>2992.2</td><td>5263.7</td></tr>\n",
       "\t<tr><th scope=row>1997.815</th><td>4149.92</td><td>5806.8</td><td>2992.9</td><td>5287.9</td></tr>\n",
       "\t<tr><th scope=row>1997.819</th><td>4049.16</td><td>5751.6</td><td>2958.0</td><td>5271.1</td></tr>\n",
       "\t<tr><th scope=row>1997.823</th><td>4069.25</td><td>5777.2</td><td>2946.7</td><td>5211.0</td></tr>\n",
       "\t<tr><th scope=row>1997.827</th><td>4172.47</td><td>5862.9</td><td>2989.9</td><td>5225.9</td></tr>\n",
       "\t<tr><th scope=row>1997.831</th><td>4124.86</td><td>5803.2</td><td>2958.1</td><td>5148.8</td></tr>\n",
       "\t<tr><th scope=row>1997.835</th><td>3976.38</td><td>5651.8</td><td>2856.9</td><td>4991.5</td></tr>\n",
       "\t<tr><th scope=row>1997.838</th><td>3981.44</td><td>5689.5</td><td>2849.0</td><td>4970.2</td></tr>\n",
       "\t<tr><th scope=row>1997.842</th><td>3871.39</td><td>5533.5</td><td>2769.6</td><td>4840.7</td></tr>\n",
       "\t<tr><th scope=row>1997.846</th><td>3645.69</td><td>5279.7</td><td>2651.3</td><td>4755.4</td></tr>\n",
       "\t<tr><th scope=row>1997.850</th><td>3806.66</td><td>5479.0</td><td>2818.0</td><td>4871.8</td></tr>\n",
       "\t<tr><th scope=row>1997.854</th><td>3748.88</td><td>5370.9</td><td>2739.5</td><td>4801.9</td></tr>\n",
       "\t<tr><th scope=row>1997.858</th><td>3753.66</td><td>5467.2</td><td>2739.3</td><td>4842.3</td></tr>\n",
       "\t<tr><th scope=row>1997.862</th><td>3847.73</td><td>5581.6</td><td>2788.0</td><td>4906.4</td></tr>\n",
       "\t<tr><th scope=row>1997.865</th><td>3784.80</td><td>5538.2</td><td>2774.9</td><td>4897.4</td></tr>\n",
       "\t<tr><th scope=row>1997.869</th><td>3841.39</td><td>5601.6</td><td>2822.4</td><td>4908.3</td></tr>\n",
       "\t<tr><th scope=row>1997.873</th><td>3813.88</td><td>5557.4</td><td>2781.8</td><td>4863.8</td></tr>\n",
       "\t<tr><th scope=row>1997.877</th><td>3715.38</td><td>5438.6</td><td>2707.1</td><td>4764.3</td></tr>\n",
       "\t<tr><th scope=row>1997.881</th><td>3728.37</td><td>5459.7</td><td>2707.1</td><td>4806.8</td></tr>\n",
       "\t<tr><th scope=row>1997.885</th><td>3734.79</td><td>5483.9</td><td>2707.1</td><td>4793.7</td></tr>\n",
       "\t<tr><th scope=row>1997.888</th><td>3697.48</td><td>5434.0</td><td>2694.5</td><td>4720.4</td></tr>\n",
       "\t<tr><th scope=row>1997.892</th><td>3701.94</td><td>5418.2</td><td>2700.7</td><td>4711.0</td></tr>\n",
       "\t<tr><th scope=row>1997.896</th><td>3676.65</td><td>5437.0</td><td>2698.9</td><td>4741.8</td></tr>\n",
       "\t<tr><th scope=row>1997.900</th><td>3816.71</td><td>5565.0</td><td>2773.0</td><td>4867.0</td></tr>\n",
       "\t<tr><th scope=row>1997.904</th><td>3844.14</td><td>5574.2</td><td>2782.6</td><td>4845.4</td></tr>\n",
       "\t<tr><th scope=row>1997.908</th><td>3876.90</td><td>5571.7</td><td>2790.6</td><td>4830.1</td></tr>\n",
       "\t<tr><th scope=row>1997.912</th><td>3931.81</td><td>5650.4</td><td>2821.2</td><td>4908.4</td></tr>\n",
       "\t<tr><th scope=row>1997.915</th><td>3941.91</td><td>5725.5</td><td>2861.7</td><td>4985.8</td></tr>\n",
       "\t<tr><th scope=row>1997.919</th><td>3832.10</td><td>5645.7</td><td>2802.5</td><td>4898.6</td></tr>\n",
       "\t<tr><th scope=row>1997.923</th><td>3850.14</td><td>5666.3</td><td>2786.3</td><td>4863.5</td></tr>\n",
       "\t<tr><th scope=row>1997.927</th><td>3926.93</td><td>5738.3</td><td>2811.7</td><td>4891.2</td></tr>\n",
       "\t<tr><th scope=row>1997.931</th><td>3961.97</td><td>5772.4</td><td>2829.0</td><td>4889.0</td></tr>\n",
       "\t<tr><th scope=row>1997.935</th><td>3972.08</td><td>5775.9</td><td>2854.4</td><td>4831.8</td></tr>\n",
       "\t<tr><th scope=row>1997.938</th><td>4125.92</td><td>5875.1</td><td>2918.5</td><td>4921.8</td></tr>\n",
       "\t<tr><th scope=row>1997.942</th><td>4096.40</td><td>5919.9</td><td>2913.1</td><td>4977.6</td></tr>\n",
       "\t<tr><th scope=row>1997.946</th><td>4074.55</td><td>5922.7</td><td>2902.4</td><td>4970.7</td></tr>\n",
       "\t<tr><th scope=row>1997.950</th><td>4159.72</td><td>5969.5</td><td>2914.5</td><td>5082.3</td></tr>\n",
       "\t<tr><th scope=row>1997.954</th><td>4191.81</td><td>6009.0</td><td>2910.1</td><td>5142.9</td></tr>\n",
       "\t<tr><th scope=row>1997.958</th><td>4208.14</td><td>6095.3</td><td>2932.5</td><td>5187.4</td></tr>\n",
       "\t<tr><th scope=row>1997.962</th><td>4187.13</td><td>6103.2</td><td>2959.4</td><td>5177.1</td></tr>\n",
       "\t<tr><th scope=row>1997.965</th><td>4116.70</td><td>6056.6</td><td>2932.2</td><td>5130.7</td></tr>\n",
       "\t<tr><th scope=row>1997.969</th><td>4016.70</td><td>6021.8</td><td>2828.5</td><td>5035.9</td></tr>\n",
       "\t<tr><th scope=row>1997.973</th><td>4061.91</td><td>6018.7</td><td>2830.3</td><td>5045.2</td></tr>\n",
       "\t<tr><th scope=row>1997.977</th><td>4029.08</td><td>5986.6</td><td>2838.3</td><td>5121.8</td></tr>\n",
       "\t<tr><th scope=row>1997.981</th><td>4150.31</td><td>6092.7</td><td>2912.2</td><td>5203.4</td></tr>\n",
       "\t<tr><th scope=row>1997.985</th><td>4154.57</td><td>6122.1</td><td>2893.3</td><td>5190.8</td></tr>\n",
       "\t<tr><th scope=row>1997.988</th><td>4162.92</td><td>6115.1</td><td>2894.5</td><td>5168.3</td></tr>\n",
       "\t<tr><th scope=row>1997.992</th><td>4055.35</td><td>5989.9</td><td>2822.9</td><td>5020.2</td></tr>\n",
       "\t<tr><th scope=row>1997.996</th><td>4125.54</td><td>6049.3</td><td>2869.7</td><td>5018.2</td></tr>\n",
       "\t<tr><th scope=row>1998.000</th><td>4132.79</td><td>6044.7</td><td>2858.1</td><td>5049.8</td></tr>\n",
       "</tbody>\n",
       "</table>\n"
      ],
      "text/latex": [
       "A Time Series: 261 × 4\n",
       "\\begin{tabular}{r|llll}\n",
       "  & DAX & SMI & CAC & FTSE\\\\\n",
       "\\hline\n",
       "\t1997.000 & 2844.09 & 3869.8 & 2289.6 & 4092.5\\\\\n",
       "\t1997.004 & 2844.09 & 3869.8 & 2289.6 & 4092.5\\\\\n",
       "\t1997.008 & 2844.09 & 3869.8 & 2303.8 & 4092.5\\\\\n",
       "\t1997.012 & 2859.22 & 3922.2 & 2307.0 & 4091.0\\\\\n",
       "\t1997.015 & 2880.07 & 3948.3 & 2318.6 & 4115.7\\\\\n",
       "\t1997.019 & 2880.07 & 3942.2 & 2315.7 & 4118.5\\\\\n",
       "\t1997.023 & 2880.07 & 3942.2 & 2315.7 & 4118.5\\\\\n",
       "\t1997.027 & 2820.81 & 3942.2 & 2257.0 & 4057.4\\\\\n",
       "\t1997.031 & 2863.26 & 3940.1 & 2282.8 & 4089.5\\\\\n",
       "\t1997.035 & 2890.20 & 3923.8 & 2306.7 & 4106.5\\\\\n",
       "\t1997.038 & 2876.34 & 3922.9 & 2301.7 & 4078.8\\\\\n",
       "\t1997.042 & 2904.08 & 3944.9 & 2331.6 & 4087.5\\\\\n",
       "\t1997.046 & 2936.69 & 3966.2 & 2349.1 & 4087.0\\\\\n",
       "\t1997.050 & 2915.81 & 3947.4 & 2327.5 & 4056.6\\\\\n",
       "\t1997.054 & 2956.78 & 3975.5 & 2361.3 & 4107.3\\\\\n",
       "\t1997.058 & 2978.84 & 3983.6 & 2402.1 & 4168.2\\\\\n",
       "\t1997.062 & 2976.56 & 3979.6 & 2388.0 & 4158.9\\\\\n",
       "\t1997.065 & 2996.12 & 4007.1 & 2407.8 & 4197.5\\\\\n",
       "\t1997.069 & 3006.87 & 4019.9 & 2425.1 & 4207.7\\\\\n",
       "\t1997.073 & 2999.19 & 4009.5 & 2406.1 & 4194.0\\\\\n",
       "\t1997.077 & 3000.66 & 4023.1 & 2409.9 & 4195.5\\\\\n",
       "\t1997.081 & 3026.63 & 4115.4 & 2442.5 & 4219.1\\\\\n",
       "\t1997.085 & 3037.28 & 4161.0 & 2461.3 & 4219.1\\\\\n",
       "\t1997.088 & 2982.63 & 4125.5 & 2430.3 & 4218.8\\\\\n",
       "\t1997.092 & 2992.55 & 4127.3 & 2435.2 & 4212.0\\\\\n",
       "\t1997.096 & 3028.27 & 4182.3 & 2482.8 & 4237.4\\\\\n",
       "\t1997.100 & 2997.95 & 4169.7 & 2465.0 & 4207.5\\\\\n",
       "\t1997.104 & 3018.58 & 4209.1 & 2503.1 & 4228.4\\\\\n",
       "\t1997.108 & 3037.70 & 4272.2 & 2516.6 & 4275.8\\\\\n",
       "\t1997.112 & 3064.70 & 4282.8 & 2508.6 & 4257.8\\\\\n",
       "\t1997.115 & 3067.48 & 4296.5 & 2503.1 & 4260.9\\\\\n",
       "\t1997.119 & 3114.73 & 4305.5 & 2541.3 & 4281.5\\\\\n",
       "\t1997.123 & 3124.78 & 4309.8 & 2558.4 & 4265.9\\\\\n",
       "\t1997.127 & 3161.36 & 4357.9 & 2597.5 & 4307.8\\\\\n",
       "\t1997.131 & 3185.72 & 4384.3 & 2595.4 & 4307.7\\\\\n",
       "\t1997.135 & 3191.45 & 4408.4 & 2582.1 & 4304.3\\\\\n",
       "\t1997.138 & 3211.01 & 4444.1 & 2599.3 & 4304.3\\\\\n",
       "\t1997.142 & 3256.86 & 4436.3 & 2628.4 & 4327.1\\\\\n",
       "\t1997.146 & 3249.17 & 4464.2 & 2627.4 & 4341.0\\\\\n",
       "\t1997.150 & 3260.30 & 4514.6 & 2634.5 & 4337.8\\\\\n",
       "\t1997.154 & 3230.83 & 4490.7 & 2617.5 & 4332.3\\\\\n",
       "\t1997.158 & 3209.04 & 4525.5 & 2594.8 & 4357.4\\\\\n",
       "\t1997.162 & 3197.09 & 4530.8 & 2575.2 & 4356.1\\\\\n",
       "\t1997.165 & 3203.79 & 4522.5 & 2562.8 & 4336.8\\\\\n",
       "\t1997.169 & 3180.63 & 4463.2 & 2567.9 & 4331.1\\\\\n",
       "\t1997.173 & 3233.34 & 4503.9 & 2607.7 & 4344.7\\\\\n",
       "\t1997.177 & 3245.02 & 4539.0 & 2602.2 & 4329.3\\\\\n",
       "\t1997.181 & 3272.58 & 4519.7 & 2629.4 & 4339.2\\\\\n",
       "\t1997.185 & 3261.04 & 4487.6 & 2607.8 & 4308.3\\\\\n",
       "\t1997.188 & 3258.74 & 4460.1 & 2600.3 & 4307.1\\\\\n",
       "\t1997.192 & 3345.09 & 4513.7 & 2651.7 & 4357.7\\\\\n",
       "\t1997.196 & 3375.45 & 4547.1 & 2666.2 & 4360.1\\\\\n",
       "\t1997.200 & 3396.55 & 4605.2 & 2698.9 & 4399.3\\\\\n",
       "\t1997.204 & 3419.51 & 4638.9 & 2708.3 & 4420.3\\\\\n",
       "\t1997.208 & 3426.77 & 4684.4 & 2709.2 & 4437.4\\\\\n",
       "\t1997.212 & 3430.95 & 4677.1 & 2686.2 & 4444.3\\\\\n",
       "\t1997.215 & 3382.40 & 4676.2 & 2641.7 & 4422.5\\\\\n",
       "\t1997.219 & 3367.82 & 4609.9 & 2632.1 & 4397.7\\\\\n",
       "\t1997.223 & 3404.29 & 4636.2 & 2645.6 & 4424.3\\\\\n",
       "\t1997.227 & 3337.11 & 4556.5 & 2588.4 & 4373.3\\\\\n",
       "\t1997.231 & 3289.59 & 4519.9 & 2574.0 & 4356.8\\\\\n",
       "\t1997.235 & 3305.72 & 4535.1 & 2596.8 & 4332.2\\\\\n",
       "\t1997.238 & 3247.03 & 4442.9 & 2553.7 & 4258.1\\\\\n",
       "\t1997.242 & 3288.52 & 4491.3 & 2587.1 & 4254.8\\\\\n",
       "\t1997.246 & 3302.57 & 4497.3 & 2579.3 & 4214.8\\\\\n",
       "\t1997.250 & 3374.93 & 4558.6 & 2624.3 & 4270.7\\\\\n",
       "\t1997.254 & 3439.22 & 4620.5 & 2648.7 & 4301.5\\\\\n",
       "\t1997.258 & 3407.83 & 4659.2 & 2656.7 & 4312.9\\\\\n",
       "\t1997.262 & 3407.83 & 4659.2 & 2656.7 & 4312.9\\\\\n",
       "\t1997.265 & 3407.83 & 4659.2 & 2656.7 & 4312.9\\\\\n",
       "\t1997.269 & 3281.46 & 4501.7 & 2581.8 & 4248.1\\\\\n",
       "\t1997.273 & 3210.94 & 4488.7 & 2530.3 & 4236.6\\\\\n",
       "\t1997.277 & 3212.82 & 4463.9 & 2514.5 & 4214.6\\\\\n",
       "\t1997.281 & 3235.35 & 4471.5 & 2518.0 & 4236.6\\\\\n",
       "\t1997.285 & 3342.77 & 4588.0 & 2572.3 & 4271.7\\\\\n",
       "\t1997.288 & 3328.13 & 4582.6 & 2579.0 & 4269.3\\\\\n",
       "\t1997.292 & 3364.76 & 4634.9 & 2617.6 & 4292.3\\\\\n",
       "\t1997.296 & 3352.58 & 4626.6 & 2608.0 & 4313.2\\\\\n",
       "\t1997.300 & 3319.24 & 4604.2 & 2574.6 & 4270.7\\\\\n",
       "\t1997.304 & 3297.52 & 4586.3 & 2566.1 & 4251.7\\\\\n",
       "\t1997.308 & 3369.26 & 4643.4 & 2620.6 & 4286.8\\\\\n",
       "\t1997.312 & 3347.54 & 4625.6 & 2621.0 & 4294.6\\\\\n",
       "\t1997.315 & 3361.80 & 4665.7 & 2615.2 & 4298.9\\\\\n",
       "\t1997.319 & 3361.20 & 4699.1 & 2547.6 & 4310.5\\\\\n",
       "\t1997.323 & 3328.41 & 4740.1 & 2522.7 & 4328.7\\\\\n",
       "\t1997.327 & 3348.90 & 4752.3 & 2514.7 & 4346.1\\\\\n",
       "\t1997.331 & 3366.87 & 4781.1 & 2533.6 & 4387.7\\\\\n",
       "\t1997.335 & 3396.49 & 4836.1 & 2539.8 & 4388.5\\\\\n",
       "\t1997.338 & 3357.57 & 4772.3 & 2536.3 & 4369.7\\\\\n",
       "\t1997.342 & 3372.96 & 4793.3 & 2550.3 & 4389.7\\\\\n",
       "\t1997.346 & 3425.86 & 4855.1 & 2602.9 & 4433.2\\\\\n",
       "\t1997.350 & 3438.09 & 4897.6 & 2639.5 & 4436.0\\\\\n",
       "\t1997.354 & 3438.09 & 4897.6 & 2639.5 & 4445.0\\\\\n",
       "\t1997.358 & 3491.08 & 4953.5 & 2655.3 & 4455.6\\\\\n",
       "\t1997.362 & 3565.69 & 5029.6 & 2672.8 & 4455.6\\\\\n",
       "\t1997.365 & 3548.52 & 4988.4 & 2651.9 & 4519.3\\\\\n",
       "\t1997.369 & 3537.45 & 5016.0 & 2643.3 & 4537.5\\\\\n",
       "\t1997.373 & 3537.45 & 5016.0 & 2643.3 & 4580.4\\\\\n",
       "\t1997.377 & 3533.21 & 5004.7 & 2633.9 & 4630.9\\\\\n",
       "\t1997.381 & 3593.14 & 5042.5 & 2693.1 & 4669.6\\\\\n",
       "\t1997.385 & 3559.29 & 5084.2 & 2719.6 & 4691.0\\\\\n",
       "\t1997.388 & 3588.57 & 5134.3 & 2774.6 & 4686.9\\\\\n",
       "\t1997.392 & 3564.85 & 5141.7 & 2776.0 & 4681.2\\\\\n",
       "\t1997.396 & 3569.26 & 5157.5 & 2784.3 & 4693.9\\\\\n",
       "\t1997.400 & 3569.26 & 5157.5 & 2784.3 & 4645.2\\\\\n",
       "\t1997.404 & 3516.20 & 5081.0 & 2751.1 & 4607.5\\\\\n",
       "\t1997.408 & 3600.40 & 5178.6 & 2786.4 & 4642.0\\\\\n",
       "\t1997.412 & 3575.44 & 5176.4 & 2741.7 & 4651.8\\\\\n",
       "\t1997.415 & 3621.72 & 5181.0 & 2762.9 & 4661.8\\\\\n",
       "\t1997.419 & 3669.31 & 5196.7 & 2654.7 & 4661.8\\\\\n",
       "\t1997.423 & 3665.43 & 5190.0 & 2680.3 & 4681.6\\\\\n",
       "\t1997.427 & 3626.60 & 5133.1 & 2583.2 & 4677.5\\\\\n",
       "\t1997.431 & 3635.38 & 5132.1 & 2579.2 & 4672.3\\\\\n",
       "\t1997.435 & 3562.73 & 5041.6 & 2583.9 & 4621.3\\\\\n",
       "\t1997.438 & 3596.40 & 5150.0 & 2601.5 & 4562.8\\\\\n",
       "\t1997.442 & 3655.59 & 5207.2 & 2624.5 & 4557.8\\\\\n",
       "\t1997.446 & 3651.59 & 5238.5 & 2635.4 & 4557.1\\\\\n",
       "\t1997.450 & 3684.60 & 5251.2 & 2690.9 & 4576.2\\\\\n",
       "\t1997.454 & 3700.53 & 5320.0 & 2719.3 & 4645.0\\\\\n",
       "\t1997.458 & 3668.61 & 5368.8 & 2686.2 & 4686.7\\\\\n",
       "\t1997.462 & 3671.16 & 5361.9 & 2664.2 & 4739.6\\\\\n",
       "\t1997.465 & 3671.87 & 5308.6 & 2696.2 & 4724.8\\\\\n",
       "\t1997.469 & 3737.16 & 5364.2 & 2760.3 & 4757.4\\\\\n",
       "\t1997.473 & 3752.37 & 5384.6 & 2808.5 & 4783.1\\\\\n",
       "\t1997.477 & 3750.02 & 5362.0 & 2795.9 & 4745.1\\\\\n",
       "\t1997.481 & 3721.18 & 5345.9 & 2762.6 & 4682.2\\\\\n",
       "\t1997.485 & 3730.56 & 5405.0 & 2751.7 & 4657.0\\\\\n",
       "\t1997.488 & 3777.56 & 5510.3 & 2739.7 & 4653.7\\\\\n",
       "\t1997.492 & 3788.54 & 5561.8 & 2757.1 & 4593.9\\\\\n",
       "\t1997.496 & 3748.79 & 5587.8 & 2762.2 & 4575.8\\\\\n",
       "\t1997.500 & 3761.07 & 5576.1 & 2784.8 & 4596.3\\\\\n",
       "\t1997.504 & 3819.52 & 5662.4 & 2867.4 & 4640.0\\\\\n",
       "\t1997.508 & 3820.16 & 5669.9 & 2893.6 & 4657.9\\\\\n",
       "\t1997.512 & 3809.92 & 5700.3 & 2891.0 & 4640.3\\\\\n",
       "\t1997.515 & 3766.89 & 5620.6 & 2858.3 & 4604.6\\\\\n",
       "\t1997.519 & 3834.84 & 5654.8 & 2944.0 & 4728.3\\\\\n",
       "\t1997.523 & 3867.53 & 5674.3 & 2909.5 & 4751.4\\\\\n",
       "\t1997.527 & 3939.73 & 5804.9 & 2937.0 & 4831.7\\\\\n",
       "\t1997.531 & 3946.73 & 5846.5 & 2934.5 & 4812.8\\\\\n",
       "\t1997.535 & 4003.35 & 5947.0 & 2947.7 & 4810.7\\\\\n",
       "\t1997.538 & 4030.10 & 6012.6 & 2929.8 & 4758.5\\\\\n",
       "\t1997.542 & 4026.97 & 5977.1 & 2950.6 & 4762.4\\\\\n",
       "\t1997.546 & 4000.65 & 5885.4 & 2929.1 & 4767.8\\\\\n",
       "\t1997.550 & 4074.30 & 5801.5 & 2941.6 & 4799.5\\\\\n",
       "\t1997.554 & 4142.19 & 5845.8 & 2941.6 & 4857.4\\\\\n",
       "\t1997.558 & 4139.68 & 5844.7 & 2950.7 & 4899.3\\\\\n",
       "\t1997.562 & 4223.69 & 5927.5 & 2988.0 & 4964.2\\\\\n",
       "\t1997.565 & 4203.91 & 5868.3 & 2958.6 & 4949.0\\\\\n",
       "\t1997.569 & 4131.94 & 5737.1 & 2876.7 & 4877.2\\\\\n",
       "\t1997.573 & 4139.96 & 5620.5 & 2874.1 & 4805.7\\\\\n",
       "\t1997.577 & 4297.64 & 5677.1 & 2921.1 & 4846.7\\\\\n",
       "\t1997.581 & 4384.82 & 5869.9 & 3003.5 & 4874.5\\\\\n",
       "\t1997.585 & 4320.52 & 5849.2 & 2973.5 & 4862.9\\\\\n",
       "\t1997.588 & 4368.54 & 5847.0 & 3025.9 & 4851.5\\\\\n",
       "\t1997.592 & 4400.30 & 5888.0 & 3022.2 & 4862.6\\\\\n",
       "\t1997.596 & 4377.70 & 5842.1 & 3023.6 & 4876.6\\\\\n",
       "\t1997.600 & 4458.66 & 5929.5 & 3069.3 & 4927.3\\\\\n",
       "\t1997.604 & 4405.52 & 5898.2 & 3075.7 & 4907.5\\\\\n",
       "\t1997.608 & 4336.98 & 5898.2 & 3049.5 & 4899.3\\\\\n",
       "\t1997.612 & 4302.50 & 5771.0 & 2992.4 & 4895.7\\\\\n",
       "\t1997.615 & 4325.86 & 5765.2 & 2984.1 & 4960.6\\\\\n",
       "\t1997.619 & 4364.25 & 5812.1 & 3037.1 & 5026.2\\\\\n",
       "\t1997.623 & 4428.08 & 5922.1 & 3056.3 & 5086.8\\\\\n",
       "\t1997.627 & 4342.31 & 5864.8 & 2996.3 & 5031.3\\\\\n",
       "\t1997.631 & 4333.15 & 5825.6 & 2983.4 & 5031.9\\\\\n",
       "\t1997.635 & 4377.51 & 5808.4 & 2998.6 & 5075.8\\\\\n",
       "\t1997.638 & 4237.06 & 5682.1 & 2924.0 & 5003.6\\\\\n",
       "\t1997.642 & 4195.53 & 5579.5 & 2921.8 & 4991.3\\\\\n",
       "\t1997.646 & 4077.59 & 5498.5 & 2921.8 & 4865.8\\\\\n",
       "\t1997.650 & 4080.55 & 5405.6 & 2870.1 & 4835.0\\\\\n",
       "\t1997.654 & 4190.45 & 5580.1 & 2936.2 & 4914.2\\\\\n",
       "\t1997.658 & 4251.93 & 5690.1 & 2979.3 & 4958.4\\\\\n",
       "\t1997.662 & 4204.81 & 5668.8 & 2957.2 & 4978.0\\\\\n",
       "\t1997.665 & 4090.14 & 5475.8 & 2904.2 & 4901.1\\\\\n",
       "\t1997.669 & 4076.75 & 5473.9 & 2898.6 & 4901.1\\\\\n",
       "\t1997.673 & 3993.70 & 5363.3 & 2869.3 & 4886.3\\\\\n",
       "\t1997.677 & 3992.03 & 5409.6 & 2871.7 & 4906.9\\\\\n",
       "\t1997.681 & 3897.43 & 5217.3 & 2828.4 & 4845.4\\\\\n",
       "\t1997.685 & 3919.79 & 5216.7 & 2770.5 & 4817.5\\\\\n",
       "\t1997.688 & 4001.81 & 5271.5 & 2805.8 & 4870.2\\\\\n",
       "\t1997.692 & 4127.28 & 5447.5 & 2921.2 & 4952.2\\\\\n",
       "\t1997.696 & 4062.13 & 5478.6 & 2918.0 & 4976.9\\\\\n",
       "\t1997.700 & 4093.43 & 5478.1 & 2927.0 & 4991.3\\\\\n",
       "\t1997.704 & 4073.71 & 5532.9 & 2924.5 & 4994.2\\\\\n",
       "\t1997.708 & 4131.26 & 5505.3 & 2940.9 & 4985.2\\\\\n",
       "\t1997.712 & 4104.57 & 5445.1 & 2919.7 & 4950.5\\\\\n",
       "\t1997.715 & 4028.00 & 5356.7 & 2874.6 & 4905.2\\\\\n",
       "\t1997.719 & 3890.24 & 5280.8 & 2843.6 & 4854.8\\\\\n",
       "\t1997.723 & 3796.61 & 5281.9 & 2834.1 & 4848.2\\\\\n",
       "\t1997.727 & 3869.53 & 5321.7 & 2898.6 & 4902.9\\\\\n",
       "\t1997.731 & 3995.69 & 5417.8 & 2940.6 & 4976.4\\\\\n",
       "\t1997.735 & 3970.44 & 5550.4 & 2944.0 & 5013.1\\\\\n",
       "\t1997.738 & 4004.04 & 5629.0 & 2978.4 & 5046.2\\\\\n",
       "\t1997.742 & 3983.06 & 5611.0 & 2977.2 & 5023.8\\\\\n",
       "\t1997.746 & 4096.85 & 5705.1 & 3017.5 & 5075.7\\\\\n",
       "\t1997.750 & 4091.77 & 5730.4 & 2997.2 & 5027.5\\\\\n",
       "\t1997.754 & 4150.95 & 5732.5 & 3023.7 & 5077.2\\\\\n",
       "\t1997.758 & 4104.93 & 5667.1 & 3005.4 & 5065.5\\\\\n",
       "\t1997.762 & 4135.09 & 5716.6 & 2985.6 & 5226.3\\\\\n",
       "\t1997.765 & 4116.52 & 5691.8 & 2989.0 & 5220.3\\\\\n",
       "\t1997.769 & 4154.89 & 5673.6 & 3008.3 & 5244.2\\\\\n",
       "\t1997.773 & 4262.98 & 5754.7 & 3054.9 & 5317.1\\\\\n",
       "\t1997.777 & 4266.17 & 5825.0 & 3052.1 & 5296.1\\\\\n",
       "\t1997.781 & 4266.17 & 5929.0 & 3094.0 & 5330.8\\\\\n",
       "\t1997.785 & 4326.35 & 5897.4 & 3078.0 & 5300.0\\\\\n",
       "\t1997.788 & 4311.13 & 5846.9 & 3064.4 & 5305.6\\\\\n",
       "\t1997.792 & 4267.40 & 5822.3 & 3024.1 & 5262.1\\\\\n",
       "\t1997.796 & 4179.92 & 5732.2 & 2960.7 & 5217.8\\\\\n",
       "\t1997.800 & 4164.62 & 5699.5 & 2955.1 & 5227.3\\\\\n",
       "\t1997.804 & 4225.27 & 5792.8 & 3002.9 & 5300.1\\\\\n",
       "\t1997.808 & 4215.23 & 5836.3 & 3002.5 & 5298.9\\\\\n",
       "\t1997.812 & 4168.62 & 5815.9 & 2992.2 & 5263.7\\\\\n",
       "\t1997.815 & 4149.92 & 5806.8 & 2992.9 & 5287.9\\\\\n",
       "\t1997.819 & 4049.16 & 5751.6 & 2958.0 & 5271.1\\\\\n",
       "\t1997.823 & 4069.25 & 5777.2 & 2946.7 & 5211.0\\\\\n",
       "\t1997.827 & 4172.47 & 5862.9 & 2989.9 & 5225.9\\\\\n",
       "\t1997.831 & 4124.86 & 5803.2 & 2958.1 & 5148.8\\\\\n",
       "\t1997.835 & 3976.38 & 5651.8 & 2856.9 & 4991.5\\\\\n",
       "\t1997.838 & 3981.44 & 5689.5 & 2849.0 & 4970.2\\\\\n",
       "\t1997.842 & 3871.39 & 5533.5 & 2769.6 & 4840.7\\\\\n",
       "\t1997.846 & 3645.69 & 5279.7 & 2651.3 & 4755.4\\\\\n",
       "\t1997.850 & 3806.66 & 5479.0 & 2818.0 & 4871.8\\\\\n",
       "\t1997.854 & 3748.88 & 5370.9 & 2739.5 & 4801.9\\\\\n",
       "\t1997.858 & 3753.66 & 5467.2 & 2739.3 & 4842.3\\\\\n",
       "\t1997.862 & 3847.73 & 5581.6 & 2788.0 & 4906.4\\\\\n",
       "\t1997.865 & 3784.80 & 5538.2 & 2774.9 & 4897.4\\\\\n",
       "\t1997.869 & 3841.39 & 5601.6 & 2822.4 & 4908.3\\\\\n",
       "\t1997.873 & 3813.88 & 5557.4 & 2781.8 & 4863.8\\\\\n",
       "\t1997.877 & 3715.38 & 5438.6 & 2707.1 & 4764.3\\\\\n",
       "\t1997.881 & 3728.37 & 5459.7 & 2707.1 & 4806.8\\\\\n",
       "\t1997.885 & 3734.79 & 5483.9 & 2707.1 & 4793.7\\\\\n",
       "\t1997.888 & 3697.48 & 5434.0 & 2694.5 & 4720.4\\\\\n",
       "\t1997.892 & 3701.94 & 5418.2 & 2700.7 & 4711.0\\\\\n",
       "\t1997.896 & 3676.65 & 5437.0 & 2698.9 & 4741.8\\\\\n",
       "\t1997.900 & 3816.71 & 5565.0 & 2773.0 & 4867.0\\\\\n",
       "\t1997.904 & 3844.14 & 5574.2 & 2782.6 & 4845.4\\\\\n",
       "\t1997.908 & 3876.90 & 5571.7 & 2790.6 & 4830.1\\\\\n",
       "\t1997.912 & 3931.81 & 5650.4 & 2821.2 & 4908.4\\\\\n",
       "\t1997.915 & 3941.91 & 5725.5 & 2861.7 & 4985.8\\\\\n",
       "\t1997.919 & 3832.10 & 5645.7 & 2802.5 & 4898.6\\\\\n",
       "\t1997.923 & 3850.14 & 5666.3 & 2786.3 & 4863.5\\\\\n",
       "\t1997.927 & 3926.93 & 5738.3 & 2811.7 & 4891.2\\\\\n",
       "\t1997.931 & 3961.97 & 5772.4 & 2829.0 & 4889.0\\\\\n",
       "\t1997.935 & 3972.08 & 5775.9 & 2854.4 & 4831.8\\\\\n",
       "\t1997.938 & 4125.92 & 5875.1 & 2918.5 & 4921.8\\\\\n",
       "\t1997.942 & 4096.40 & 5919.9 & 2913.1 & 4977.6\\\\\n",
       "\t1997.946 & 4074.55 & 5922.7 & 2902.4 & 4970.7\\\\\n",
       "\t1997.950 & 4159.72 & 5969.5 & 2914.5 & 5082.3\\\\\n",
       "\t1997.954 & 4191.81 & 6009.0 & 2910.1 & 5142.9\\\\\n",
       "\t1997.958 & 4208.14 & 6095.3 & 2932.5 & 5187.4\\\\\n",
       "\t1997.962 & 4187.13 & 6103.2 & 2959.4 & 5177.1\\\\\n",
       "\t1997.965 & 4116.70 & 6056.6 & 2932.2 & 5130.7\\\\\n",
       "\t1997.969 & 4016.70 & 6021.8 & 2828.5 & 5035.9\\\\\n",
       "\t1997.973 & 4061.91 & 6018.7 & 2830.3 & 5045.2\\\\\n",
       "\t1997.977 & 4029.08 & 5986.6 & 2838.3 & 5121.8\\\\\n",
       "\t1997.981 & 4150.31 & 6092.7 & 2912.2 & 5203.4\\\\\n",
       "\t1997.985 & 4154.57 & 6122.1 & 2893.3 & 5190.8\\\\\n",
       "\t1997.988 & 4162.92 & 6115.1 & 2894.5 & 5168.3\\\\\n",
       "\t1997.992 & 4055.35 & 5989.9 & 2822.9 & 5020.2\\\\\n",
       "\t1997.996 & 4125.54 & 6049.3 & 2869.7 & 5018.2\\\\\n",
       "\t1998.000 & 4132.79 & 6044.7 & 2858.1 & 5049.8\\\\\n",
       "\\end{tabular}\n"
      ],
      "text/markdown": [
       "\n",
       "A Time Series: 261 × 4\n",
       "\n",
       "| <!--/--> | DAX | SMI | CAC | FTSE |\n",
       "|---|---|---|---|---|\n",
       "| 1997.000 | 2844.09 | 3869.8 | 2289.6 | 4092.5 |\n",
       "| 1997.004 | 2844.09 | 3869.8 | 2289.6 | 4092.5 |\n",
       "| 1997.008 | 2844.09 | 3869.8 | 2303.8 | 4092.5 |\n",
       "| 1997.012 | 2859.22 | 3922.2 | 2307.0 | 4091.0 |\n",
       "| 1997.015 | 2880.07 | 3948.3 | 2318.6 | 4115.7 |\n",
       "| 1997.019 | 2880.07 | 3942.2 | 2315.7 | 4118.5 |\n",
       "| 1997.023 | 2880.07 | 3942.2 | 2315.7 | 4118.5 |\n",
       "| 1997.027 | 2820.81 | 3942.2 | 2257.0 | 4057.4 |\n",
       "| 1997.031 | 2863.26 | 3940.1 | 2282.8 | 4089.5 |\n",
       "| 1997.035 | 2890.20 | 3923.8 | 2306.7 | 4106.5 |\n",
       "| 1997.038 | 2876.34 | 3922.9 | 2301.7 | 4078.8 |\n",
       "| 1997.042 | 2904.08 | 3944.9 | 2331.6 | 4087.5 |\n",
       "| 1997.046 | 2936.69 | 3966.2 | 2349.1 | 4087.0 |\n",
       "| 1997.050 | 2915.81 | 3947.4 | 2327.5 | 4056.6 |\n",
       "| 1997.054 | 2956.78 | 3975.5 | 2361.3 | 4107.3 |\n",
       "| 1997.058 | 2978.84 | 3983.6 | 2402.1 | 4168.2 |\n",
       "| 1997.062 | 2976.56 | 3979.6 | 2388.0 | 4158.9 |\n",
       "| 1997.065 | 2996.12 | 4007.1 | 2407.8 | 4197.5 |\n",
       "| 1997.069 | 3006.87 | 4019.9 | 2425.1 | 4207.7 |\n",
       "| 1997.073 | 2999.19 | 4009.5 | 2406.1 | 4194.0 |\n",
       "| 1997.077 | 3000.66 | 4023.1 | 2409.9 | 4195.5 |\n",
       "| 1997.081 | 3026.63 | 4115.4 | 2442.5 | 4219.1 |\n",
       "| 1997.085 | 3037.28 | 4161.0 | 2461.3 | 4219.1 |\n",
       "| 1997.088 | 2982.63 | 4125.5 | 2430.3 | 4218.8 |\n",
       "| 1997.092 | 2992.55 | 4127.3 | 2435.2 | 4212.0 |\n",
       "| 1997.096 | 3028.27 | 4182.3 | 2482.8 | 4237.4 |\n",
       "| 1997.100 | 2997.95 | 4169.7 | 2465.0 | 4207.5 |\n",
       "| 1997.104 | 3018.58 | 4209.1 | 2503.1 | 4228.4 |\n",
       "| 1997.108 | 3037.70 | 4272.2 | 2516.6 | 4275.8 |\n",
       "| 1997.112 | 3064.70 | 4282.8 | 2508.6 | 4257.8 |\n",
       "| 1997.115 | 3067.48 | 4296.5 | 2503.1 | 4260.9 |\n",
       "| 1997.119 | 3114.73 | 4305.5 | 2541.3 | 4281.5 |\n",
       "| 1997.123 | 3124.78 | 4309.8 | 2558.4 | 4265.9 |\n",
       "| 1997.127 | 3161.36 | 4357.9 | 2597.5 | 4307.8 |\n",
       "| 1997.131 | 3185.72 | 4384.3 | 2595.4 | 4307.7 |\n",
       "| 1997.135 | 3191.45 | 4408.4 | 2582.1 | 4304.3 |\n",
       "| 1997.138 | 3211.01 | 4444.1 | 2599.3 | 4304.3 |\n",
       "| 1997.142 | 3256.86 | 4436.3 | 2628.4 | 4327.1 |\n",
       "| 1997.146 | 3249.17 | 4464.2 | 2627.4 | 4341.0 |\n",
       "| 1997.150 | 3260.30 | 4514.6 | 2634.5 | 4337.8 |\n",
       "| 1997.154 | 3230.83 | 4490.7 | 2617.5 | 4332.3 |\n",
       "| 1997.158 | 3209.04 | 4525.5 | 2594.8 | 4357.4 |\n",
       "| 1997.162 | 3197.09 | 4530.8 | 2575.2 | 4356.1 |\n",
       "| 1997.165 | 3203.79 | 4522.5 | 2562.8 | 4336.8 |\n",
       "| 1997.169 | 3180.63 | 4463.2 | 2567.9 | 4331.1 |\n",
       "| 1997.173 | 3233.34 | 4503.9 | 2607.7 | 4344.7 |\n",
       "| 1997.177 | 3245.02 | 4539.0 | 2602.2 | 4329.3 |\n",
       "| 1997.181 | 3272.58 | 4519.7 | 2629.4 | 4339.2 |\n",
       "| 1997.185 | 3261.04 | 4487.6 | 2607.8 | 4308.3 |\n",
       "| 1997.188 | 3258.74 | 4460.1 | 2600.3 | 4307.1 |\n",
       "| 1997.192 | 3345.09 | 4513.7 | 2651.7 | 4357.7 |\n",
       "| 1997.196 | 3375.45 | 4547.1 | 2666.2 | 4360.1 |\n",
       "| 1997.200 | 3396.55 | 4605.2 | 2698.9 | 4399.3 |\n",
       "| 1997.204 | 3419.51 | 4638.9 | 2708.3 | 4420.3 |\n",
       "| 1997.208 | 3426.77 | 4684.4 | 2709.2 | 4437.4 |\n",
       "| 1997.212 | 3430.95 | 4677.1 | 2686.2 | 4444.3 |\n",
       "| 1997.215 | 3382.40 | 4676.2 | 2641.7 | 4422.5 |\n",
       "| 1997.219 | 3367.82 | 4609.9 | 2632.1 | 4397.7 |\n",
       "| 1997.223 | 3404.29 | 4636.2 | 2645.6 | 4424.3 |\n",
       "| 1997.227 | 3337.11 | 4556.5 | 2588.4 | 4373.3 |\n",
       "| 1997.231 | 3289.59 | 4519.9 | 2574.0 | 4356.8 |\n",
       "| 1997.235 | 3305.72 | 4535.1 | 2596.8 | 4332.2 |\n",
       "| 1997.238 | 3247.03 | 4442.9 | 2553.7 | 4258.1 |\n",
       "| 1997.242 | 3288.52 | 4491.3 | 2587.1 | 4254.8 |\n",
       "| 1997.246 | 3302.57 | 4497.3 | 2579.3 | 4214.8 |\n",
       "| 1997.250 | 3374.93 | 4558.6 | 2624.3 | 4270.7 |\n",
       "| 1997.254 | 3439.22 | 4620.5 | 2648.7 | 4301.5 |\n",
       "| 1997.258 | 3407.83 | 4659.2 | 2656.7 | 4312.9 |\n",
       "| 1997.262 | 3407.83 | 4659.2 | 2656.7 | 4312.9 |\n",
       "| 1997.265 | 3407.83 | 4659.2 | 2656.7 | 4312.9 |\n",
       "| 1997.269 | 3281.46 | 4501.7 | 2581.8 | 4248.1 |\n",
       "| 1997.273 | 3210.94 | 4488.7 | 2530.3 | 4236.6 |\n",
       "| 1997.277 | 3212.82 | 4463.9 | 2514.5 | 4214.6 |\n",
       "| 1997.281 | 3235.35 | 4471.5 | 2518.0 | 4236.6 |\n",
       "| 1997.285 | 3342.77 | 4588.0 | 2572.3 | 4271.7 |\n",
       "| 1997.288 | 3328.13 | 4582.6 | 2579.0 | 4269.3 |\n",
       "| 1997.292 | 3364.76 | 4634.9 | 2617.6 | 4292.3 |\n",
       "| 1997.296 | 3352.58 | 4626.6 | 2608.0 | 4313.2 |\n",
       "| 1997.300 | 3319.24 | 4604.2 | 2574.6 | 4270.7 |\n",
       "| 1997.304 | 3297.52 | 4586.3 | 2566.1 | 4251.7 |\n",
       "| 1997.308 | 3369.26 | 4643.4 | 2620.6 | 4286.8 |\n",
       "| 1997.312 | 3347.54 | 4625.6 | 2621.0 | 4294.6 |\n",
       "| 1997.315 | 3361.80 | 4665.7 | 2615.2 | 4298.9 |\n",
       "| 1997.319 | 3361.20 | 4699.1 | 2547.6 | 4310.5 |\n",
       "| 1997.323 | 3328.41 | 4740.1 | 2522.7 | 4328.7 |\n",
       "| 1997.327 | 3348.90 | 4752.3 | 2514.7 | 4346.1 |\n",
       "| 1997.331 | 3366.87 | 4781.1 | 2533.6 | 4387.7 |\n",
       "| 1997.335 | 3396.49 | 4836.1 | 2539.8 | 4388.5 |\n",
       "| 1997.338 | 3357.57 | 4772.3 | 2536.3 | 4369.7 |\n",
       "| 1997.342 | 3372.96 | 4793.3 | 2550.3 | 4389.7 |\n",
       "| 1997.346 | 3425.86 | 4855.1 | 2602.9 | 4433.2 |\n",
       "| 1997.350 | 3438.09 | 4897.6 | 2639.5 | 4436.0 |\n",
       "| 1997.354 | 3438.09 | 4897.6 | 2639.5 | 4445.0 |\n",
       "| 1997.358 | 3491.08 | 4953.5 | 2655.3 | 4455.6 |\n",
       "| 1997.362 | 3565.69 | 5029.6 | 2672.8 | 4455.6 |\n",
       "| 1997.365 | 3548.52 | 4988.4 | 2651.9 | 4519.3 |\n",
       "| 1997.369 | 3537.45 | 5016.0 | 2643.3 | 4537.5 |\n",
       "| 1997.373 | 3537.45 | 5016.0 | 2643.3 | 4580.4 |\n",
       "| 1997.377 | 3533.21 | 5004.7 | 2633.9 | 4630.9 |\n",
       "| 1997.381 | 3593.14 | 5042.5 | 2693.1 | 4669.6 |\n",
       "| 1997.385 | 3559.29 | 5084.2 | 2719.6 | 4691.0 |\n",
       "| 1997.388 | 3588.57 | 5134.3 | 2774.6 | 4686.9 |\n",
       "| 1997.392 | 3564.85 | 5141.7 | 2776.0 | 4681.2 |\n",
       "| 1997.396 | 3569.26 | 5157.5 | 2784.3 | 4693.9 |\n",
       "| 1997.400 | 3569.26 | 5157.5 | 2784.3 | 4645.2 |\n",
       "| 1997.404 | 3516.20 | 5081.0 | 2751.1 | 4607.5 |\n",
       "| 1997.408 | 3600.40 | 5178.6 | 2786.4 | 4642.0 |\n",
       "| 1997.412 | 3575.44 | 5176.4 | 2741.7 | 4651.8 |\n",
       "| 1997.415 | 3621.72 | 5181.0 | 2762.9 | 4661.8 |\n",
       "| 1997.419 | 3669.31 | 5196.7 | 2654.7 | 4661.8 |\n",
       "| 1997.423 | 3665.43 | 5190.0 | 2680.3 | 4681.6 |\n",
       "| 1997.427 | 3626.60 | 5133.1 | 2583.2 | 4677.5 |\n",
       "| 1997.431 | 3635.38 | 5132.1 | 2579.2 | 4672.3 |\n",
       "| 1997.435 | 3562.73 | 5041.6 | 2583.9 | 4621.3 |\n",
       "| 1997.438 | 3596.40 | 5150.0 | 2601.5 | 4562.8 |\n",
       "| 1997.442 | 3655.59 | 5207.2 | 2624.5 | 4557.8 |\n",
       "| 1997.446 | 3651.59 | 5238.5 | 2635.4 | 4557.1 |\n",
       "| 1997.450 | 3684.60 | 5251.2 | 2690.9 | 4576.2 |\n",
       "| 1997.454 | 3700.53 | 5320.0 | 2719.3 | 4645.0 |\n",
       "| 1997.458 | 3668.61 | 5368.8 | 2686.2 | 4686.7 |\n",
       "| 1997.462 | 3671.16 | 5361.9 | 2664.2 | 4739.6 |\n",
       "| 1997.465 | 3671.87 | 5308.6 | 2696.2 | 4724.8 |\n",
       "| 1997.469 | 3737.16 | 5364.2 | 2760.3 | 4757.4 |\n",
       "| 1997.473 | 3752.37 | 5384.6 | 2808.5 | 4783.1 |\n",
       "| 1997.477 | 3750.02 | 5362.0 | 2795.9 | 4745.1 |\n",
       "| 1997.481 | 3721.18 | 5345.9 | 2762.6 | 4682.2 |\n",
       "| 1997.485 | 3730.56 | 5405.0 | 2751.7 | 4657.0 |\n",
       "| 1997.488 | 3777.56 | 5510.3 | 2739.7 | 4653.7 |\n",
       "| 1997.492 | 3788.54 | 5561.8 | 2757.1 | 4593.9 |\n",
       "| 1997.496 | 3748.79 | 5587.8 | 2762.2 | 4575.8 |\n",
       "| 1997.500 | 3761.07 | 5576.1 | 2784.8 | 4596.3 |\n",
       "| 1997.504 | 3819.52 | 5662.4 | 2867.4 | 4640.0 |\n",
       "| 1997.508 | 3820.16 | 5669.9 | 2893.6 | 4657.9 |\n",
       "| 1997.512 | 3809.92 | 5700.3 | 2891.0 | 4640.3 |\n",
       "| 1997.515 | 3766.89 | 5620.6 | 2858.3 | 4604.6 |\n",
       "| 1997.519 | 3834.84 | 5654.8 | 2944.0 | 4728.3 |\n",
       "| 1997.523 | 3867.53 | 5674.3 | 2909.5 | 4751.4 |\n",
       "| 1997.527 | 3939.73 | 5804.9 | 2937.0 | 4831.7 |\n",
       "| 1997.531 | 3946.73 | 5846.5 | 2934.5 | 4812.8 |\n",
       "| 1997.535 | 4003.35 | 5947.0 | 2947.7 | 4810.7 |\n",
       "| 1997.538 | 4030.10 | 6012.6 | 2929.8 | 4758.5 |\n",
       "| 1997.542 | 4026.97 | 5977.1 | 2950.6 | 4762.4 |\n",
       "| 1997.546 | 4000.65 | 5885.4 | 2929.1 | 4767.8 |\n",
       "| 1997.550 | 4074.30 | 5801.5 | 2941.6 | 4799.5 |\n",
       "| 1997.554 | 4142.19 | 5845.8 | 2941.6 | 4857.4 |\n",
       "| 1997.558 | 4139.68 | 5844.7 | 2950.7 | 4899.3 |\n",
       "| 1997.562 | 4223.69 | 5927.5 | 2988.0 | 4964.2 |\n",
       "| 1997.565 | 4203.91 | 5868.3 | 2958.6 | 4949.0 |\n",
       "| 1997.569 | 4131.94 | 5737.1 | 2876.7 | 4877.2 |\n",
       "| 1997.573 | 4139.96 | 5620.5 | 2874.1 | 4805.7 |\n",
       "| 1997.577 | 4297.64 | 5677.1 | 2921.1 | 4846.7 |\n",
       "| 1997.581 | 4384.82 | 5869.9 | 3003.5 | 4874.5 |\n",
       "| 1997.585 | 4320.52 | 5849.2 | 2973.5 | 4862.9 |\n",
       "| 1997.588 | 4368.54 | 5847.0 | 3025.9 | 4851.5 |\n",
       "| 1997.592 | 4400.30 | 5888.0 | 3022.2 | 4862.6 |\n",
       "| 1997.596 | 4377.70 | 5842.1 | 3023.6 | 4876.6 |\n",
       "| 1997.600 | 4458.66 | 5929.5 | 3069.3 | 4927.3 |\n",
       "| 1997.604 | 4405.52 | 5898.2 | 3075.7 | 4907.5 |\n",
       "| 1997.608 | 4336.98 | 5898.2 | 3049.5 | 4899.3 |\n",
       "| 1997.612 | 4302.50 | 5771.0 | 2992.4 | 4895.7 |\n",
       "| 1997.615 | 4325.86 | 5765.2 | 2984.1 | 4960.6 |\n",
       "| 1997.619 | 4364.25 | 5812.1 | 3037.1 | 5026.2 |\n",
       "| 1997.623 | 4428.08 | 5922.1 | 3056.3 | 5086.8 |\n",
       "| 1997.627 | 4342.31 | 5864.8 | 2996.3 | 5031.3 |\n",
       "| 1997.631 | 4333.15 | 5825.6 | 2983.4 | 5031.9 |\n",
       "| 1997.635 | 4377.51 | 5808.4 | 2998.6 | 5075.8 |\n",
       "| 1997.638 | 4237.06 | 5682.1 | 2924.0 | 5003.6 |\n",
       "| 1997.642 | 4195.53 | 5579.5 | 2921.8 | 4991.3 |\n",
       "| 1997.646 | 4077.59 | 5498.5 | 2921.8 | 4865.8 |\n",
       "| 1997.650 | 4080.55 | 5405.6 | 2870.1 | 4835.0 |\n",
       "| 1997.654 | 4190.45 | 5580.1 | 2936.2 | 4914.2 |\n",
       "| 1997.658 | 4251.93 | 5690.1 | 2979.3 | 4958.4 |\n",
       "| 1997.662 | 4204.81 | 5668.8 | 2957.2 | 4978.0 |\n",
       "| 1997.665 | 4090.14 | 5475.8 | 2904.2 | 4901.1 |\n",
       "| 1997.669 | 4076.75 | 5473.9 | 2898.6 | 4901.1 |\n",
       "| 1997.673 | 3993.70 | 5363.3 | 2869.3 | 4886.3 |\n",
       "| 1997.677 | 3992.03 | 5409.6 | 2871.7 | 4906.9 |\n",
       "| 1997.681 | 3897.43 | 5217.3 | 2828.4 | 4845.4 |\n",
       "| 1997.685 | 3919.79 | 5216.7 | 2770.5 | 4817.5 |\n",
       "| 1997.688 | 4001.81 | 5271.5 | 2805.8 | 4870.2 |\n",
       "| 1997.692 | 4127.28 | 5447.5 | 2921.2 | 4952.2 |\n",
       "| 1997.696 | 4062.13 | 5478.6 | 2918.0 | 4976.9 |\n",
       "| 1997.700 | 4093.43 | 5478.1 | 2927.0 | 4991.3 |\n",
       "| 1997.704 | 4073.71 | 5532.9 | 2924.5 | 4994.2 |\n",
       "| 1997.708 | 4131.26 | 5505.3 | 2940.9 | 4985.2 |\n",
       "| 1997.712 | 4104.57 | 5445.1 | 2919.7 | 4950.5 |\n",
       "| 1997.715 | 4028.00 | 5356.7 | 2874.6 | 4905.2 |\n",
       "| 1997.719 | 3890.24 | 5280.8 | 2843.6 | 4854.8 |\n",
       "| 1997.723 | 3796.61 | 5281.9 | 2834.1 | 4848.2 |\n",
       "| 1997.727 | 3869.53 | 5321.7 | 2898.6 | 4902.9 |\n",
       "| 1997.731 | 3995.69 | 5417.8 | 2940.6 | 4976.4 |\n",
       "| 1997.735 | 3970.44 | 5550.4 | 2944.0 | 5013.1 |\n",
       "| 1997.738 | 4004.04 | 5629.0 | 2978.4 | 5046.2 |\n",
       "| 1997.742 | 3983.06 | 5611.0 | 2977.2 | 5023.8 |\n",
       "| 1997.746 | 4096.85 | 5705.1 | 3017.5 | 5075.7 |\n",
       "| 1997.750 | 4091.77 | 5730.4 | 2997.2 | 5027.5 |\n",
       "| 1997.754 | 4150.95 | 5732.5 | 3023.7 | 5077.2 |\n",
       "| 1997.758 | 4104.93 | 5667.1 | 3005.4 | 5065.5 |\n",
       "| 1997.762 | 4135.09 | 5716.6 | 2985.6 | 5226.3 |\n",
       "| 1997.765 | 4116.52 | 5691.8 | 2989.0 | 5220.3 |\n",
       "| 1997.769 | 4154.89 | 5673.6 | 3008.3 | 5244.2 |\n",
       "| 1997.773 | 4262.98 | 5754.7 | 3054.9 | 5317.1 |\n",
       "| 1997.777 | 4266.17 | 5825.0 | 3052.1 | 5296.1 |\n",
       "| 1997.781 | 4266.17 | 5929.0 | 3094.0 | 5330.8 |\n",
       "| 1997.785 | 4326.35 | 5897.4 | 3078.0 | 5300.0 |\n",
       "| 1997.788 | 4311.13 | 5846.9 | 3064.4 | 5305.6 |\n",
       "| 1997.792 | 4267.40 | 5822.3 | 3024.1 | 5262.1 |\n",
       "| 1997.796 | 4179.92 | 5732.2 | 2960.7 | 5217.8 |\n",
       "| 1997.800 | 4164.62 | 5699.5 | 2955.1 | 5227.3 |\n",
       "| 1997.804 | 4225.27 | 5792.8 | 3002.9 | 5300.1 |\n",
       "| 1997.808 | 4215.23 | 5836.3 | 3002.5 | 5298.9 |\n",
       "| 1997.812 | 4168.62 | 5815.9 | 2992.2 | 5263.7 |\n",
       "| 1997.815 | 4149.92 | 5806.8 | 2992.9 | 5287.9 |\n",
       "| 1997.819 | 4049.16 | 5751.6 | 2958.0 | 5271.1 |\n",
       "| 1997.823 | 4069.25 | 5777.2 | 2946.7 | 5211.0 |\n",
       "| 1997.827 | 4172.47 | 5862.9 | 2989.9 | 5225.9 |\n",
       "| 1997.831 | 4124.86 | 5803.2 | 2958.1 | 5148.8 |\n",
       "| 1997.835 | 3976.38 | 5651.8 | 2856.9 | 4991.5 |\n",
       "| 1997.838 | 3981.44 | 5689.5 | 2849.0 | 4970.2 |\n",
       "| 1997.842 | 3871.39 | 5533.5 | 2769.6 | 4840.7 |\n",
       "| 1997.846 | 3645.69 | 5279.7 | 2651.3 | 4755.4 |\n",
       "| 1997.850 | 3806.66 | 5479.0 | 2818.0 | 4871.8 |\n",
       "| 1997.854 | 3748.88 | 5370.9 | 2739.5 | 4801.9 |\n",
       "| 1997.858 | 3753.66 | 5467.2 | 2739.3 | 4842.3 |\n",
       "| 1997.862 | 3847.73 | 5581.6 | 2788.0 | 4906.4 |\n",
       "| 1997.865 | 3784.80 | 5538.2 | 2774.9 | 4897.4 |\n",
       "| 1997.869 | 3841.39 | 5601.6 | 2822.4 | 4908.3 |\n",
       "| 1997.873 | 3813.88 | 5557.4 | 2781.8 | 4863.8 |\n",
       "| 1997.877 | 3715.38 | 5438.6 | 2707.1 | 4764.3 |\n",
       "| 1997.881 | 3728.37 | 5459.7 | 2707.1 | 4806.8 |\n",
       "| 1997.885 | 3734.79 | 5483.9 | 2707.1 | 4793.7 |\n",
       "| 1997.888 | 3697.48 | 5434.0 | 2694.5 | 4720.4 |\n",
       "| 1997.892 | 3701.94 | 5418.2 | 2700.7 | 4711.0 |\n",
       "| 1997.896 | 3676.65 | 5437.0 | 2698.9 | 4741.8 |\n",
       "| 1997.900 | 3816.71 | 5565.0 | 2773.0 | 4867.0 |\n",
       "| 1997.904 | 3844.14 | 5574.2 | 2782.6 | 4845.4 |\n",
       "| 1997.908 | 3876.90 | 5571.7 | 2790.6 | 4830.1 |\n",
       "| 1997.912 | 3931.81 | 5650.4 | 2821.2 | 4908.4 |\n",
       "| 1997.915 | 3941.91 | 5725.5 | 2861.7 | 4985.8 |\n",
       "| 1997.919 | 3832.10 | 5645.7 | 2802.5 | 4898.6 |\n",
       "| 1997.923 | 3850.14 | 5666.3 | 2786.3 | 4863.5 |\n",
       "| 1997.927 | 3926.93 | 5738.3 | 2811.7 | 4891.2 |\n",
       "| 1997.931 | 3961.97 | 5772.4 | 2829.0 | 4889.0 |\n",
       "| 1997.935 | 3972.08 | 5775.9 | 2854.4 | 4831.8 |\n",
       "| 1997.938 | 4125.92 | 5875.1 | 2918.5 | 4921.8 |\n",
       "| 1997.942 | 4096.40 | 5919.9 | 2913.1 | 4977.6 |\n",
       "| 1997.946 | 4074.55 | 5922.7 | 2902.4 | 4970.7 |\n",
       "| 1997.950 | 4159.72 | 5969.5 | 2914.5 | 5082.3 |\n",
       "| 1997.954 | 4191.81 | 6009.0 | 2910.1 | 5142.9 |\n",
       "| 1997.958 | 4208.14 | 6095.3 | 2932.5 | 5187.4 |\n",
       "| 1997.962 | 4187.13 | 6103.2 | 2959.4 | 5177.1 |\n",
       "| 1997.965 | 4116.70 | 6056.6 | 2932.2 | 5130.7 |\n",
       "| 1997.969 | 4016.70 | 6021.8 | 2828.5 | 5035.9 |\n",
       "| 1997.973 | 4061.91 | 6018.7 | 2830.3 | 5045.2 |\n",
       "| 1997.977 | 4029.08 | 5986.6 | 2838.3 | 5121.8 |\n",
       "| 1997.981 | 4150.31 | 6092.7 | 2912.2 | 5203.4 |\n",
       "| 1997.985 | 4154.57 | 6122.1 | 2893.3 | 5190.8 |\n",
       "| 1997.988 | 4162.92 | 6115.1 | 2894.5 | 5168.3 |\n",
       "| 1997.992 | 4055.35 | 5989.9 | 2822.9 | 5020.2 |\n",
       "| 1997.996 | 4125.54 | 6049.3 | 2869.7 | 5018.2 |\n",
       "| 1998.000 | 4132.79 | 6044.7 | 2858.1 | 5049.8 |\n",
       "\n"
      ],
      "text/plain": [
       "         DAX     SMI    CAC    FTSE  \n",
       "1997.000 2844.09 3869.8 2289.6 4092.5\n",
       "1997.004 2844.09 3869.8 2289.6 4092.5\n",
       "1997.008 2844.09 3869.8 2303.8 4092.5\n",
       "1997.012 2859.22 3922.2 2307.0 4091.0\n",
       "1997.015 2880.07 3948.3 2318.6 4115.7\n",
       "1997.019 2880.07 3942.2 2315.7 4118.5\n",
       "1997.023 2880.07 3942.2 2315.7 4118.5\n",
       "1997.027 2820.81 3942.2 2257.0 4057.4\n",
       "1997.031 2863.26 3940.1 2282.8 4089.5\n",
       "1997.035 2890.20 3923.8 2306.7 4106.5\n",
       "1997.038 2876.34 3922.9 2301.7 4078.8\n",
       "1997.042 2904.08 3944.9 2331.6 4087.5\n",
       "1997.046 2936.69 3966.2 2349.1 4087.0\n",
       "1997.050 2915.81 3947.4 2327.5 4056.6\n",
       "1997.054 2956.78 3975.5 2361.3 4107.3\n",
       "1997.058 2978.84 3983.6 2402.1 4168.2\n",
       "1997.062 2976.56 3979.6 2388.0 4158.9\n",
       "1997.065 2996.12 4007.1 2407.8 4197.5\n",
       "1997.069 3006.87 4019.9 2425.1 4207.7\n",
       "1997.073 2999.19 4009.5 2406.1 4194.0\n",
       "1997.077 3000.66 4023.1 2409.9 4195.5\n",
       "1997.081 3026.63 4115.4 2442.5 4219.1\n",
       "1997.085 3037.28 4161.0 2461.3 4219.1\n",
       "1997.088 2982.63 4125.5 2430.3 4218.8\n",
       "1997.092 2992.55 4127.3 2435.2 4212.0\n",
       "1997.096 3028.27 4182.3 2482.8 4237.4\n",
       "1997.100 2997.95 4169.7 2465.0 4207.5\n",
       "1997.104 3018.58 4209.1 2503.1 4228.4\n",
       "1997.108 3037.70 4272.2 2516.6 4275.8\n",
       "1997.112 3064.70 4282.8 2508.6 4257.8\n",
       "1997.115 3067.48 4296.5 2503.1 4260.9\n",
       "1997.119 3114.73 4305.5 2541.3 4281.5\n",
       "1997.123 3124.78 4309.8 2558.4 4265.9\n",
       "1997.127 3161.36 4357.9 2597.5 4307.8\n",
       "1997.131 3185.72 4384.3 2595.4 4307.7\n",
       "1997.135 3191.45 4408.4 2582.1 4304.3\n",
       "1997.138 3211.01 4444.1 2599.3 4304.3\n",
       "1997.142 3256.86 4436.3 2628.4 4327.1\n",
       "1997.146 3249.17 4464.2 2627.4 4341.0\n",
       "1997.150 3260.30 4514.6 2634.5 4337.8\n",
       "1997.154 3230.83 4490.7 2617.5 4332.3\n",
       "1997.158 3209.04 4525.5 2594.8 4357.4\n",
       "1997.162 3197.09 4530.8 2575.2 4356.1\n",
       "1997.165 3203.79 4522.5 2562.8 4336.8\n",
       "1997.169 3180.63 4463.2 2567.9 4331.1\n",
       "1997.173 3233.34 4503.9 2607.7 4344.7\n",
       "1997.177 3245.02 4539.0 2602.2 4329.3\n",
       "1997.181 3272.58 4519.7 2629.4 4339.2\n",
       "1997.185 3261.04 4487.6 2607.8 4308.3\n",
       "1997.188 3258.74 4460.1 2600.3 4307.1\n",
       "1997.192 3345.09 4513.7 2651.7 4357.7\n",
       "1997.196 3375.45 4547.1 2666.2 4360.1\n",
       "1997.200 3396.55 4605.2 2698.9 4399.3\n",
       "1997.204 3419.51 4638.9 2708.3 4420.3\n",
       "1997.208 3426.77 4684.4 2709.2 4437.4\n",
       "1997.212 3430.95 4677.1 2686.2 4444.3\n",
       "1997.215 3382.40 4676.2 2641.7 4422.5\n",
       "1997.219 3367.82 4609.9 2632.1 4397.7\n",
       "1997.223 3404.29 4636.2 2645.6 4424.3\n",
       "1997.227 3337.11 4556.5 2588.4 4373.3\n",
       "1997.231 3289.59 4519.9 2574.0 4356.8\n",
       "1997.235 3305.72 4535.1 2596.8 4332.2\n",
       "1997.238 3247.03 4442.9 2553.7 4258.1\n",
       "1997.242 3288.52 4491.3 2587.1 4254.8\n",
       "1997.246 3302.57 4497.3 2579.3 4214.8\n",
       "1997.250 3374.93 4558.6 2624.3 4270.7\n",
       "1997.254 3439.22 4620.5 2648.7 4301.5\n",
       "1997.258 3407.83 4659.2 2656.7 4312.9\n",
       "1997.262 3407.83 4659.2 2656.7 4312.9\n",
       "1997.265 3407.83 4659.2 2656.7 4312.9\n",
       "1997.269 3281.46 4501.7 2581.8 4248.1\n",
       "1997.273 3210.94 4488.7 2530.3 4236.6\n",
       "1997.277 3212.82 4463.9 2514.5 4214.6\n",
       "1997.281 3235.35 4471.5 2518.0 4236.6\n",
       "1997.285 3342.77 4588.0 2572.3 4271.7\n",
       "1997.288 3328.13 4582.6 2579.0 4269.3\n",
       "1997.292 3364.76 4634.9 2617.6 4292.3\n",
       "1997.296 3352.58 4626.6 2608.0 4313.2\n",
       "1997.300 3319.24 4604.2 2574.6 4270.7\n",
       "1997.304 3297.52 4586.3 2566.1 4251.7\n",
       "1997.308 3369.26 4643.4 2620.6 4286.8\n",
       "1997.312 3347.54 4625.6 2621.0 4294.6\n",
       "1997.315 3361.80 4665.7 2615.2 4298.9\n",
       "1997.319 3361.20 4699.1 2547.6 4310.5\n",
       "1997.323 3328.41 4740.1 2522.7 4328.7\n",
       "1997.327 3348.90 4752.3 2514.7 4346.1\n",
       "1997.331 3366.87 4781.1 2533.6 4387.7\n",
       "1997.335 3396.49 4836.1 2539.8 4388.5\n",
       "1997.338 3357.57 4772.3 2536.3 4369.7\n",
       "1997.342 3372.96 4793.3 2550.3 4389.7\n",
       "1997.346 3425.86 4855.1 2602.9 4433.2\n",
       "1997.350 3438.09 4897.6 2639.5 4436.0\n",
       "1997.354 3438.09 4897.6 2639.5 4445.0\n",
       "1997.358 3491.08 4953.5 2655.3 4455.6\n",
       "1997.362 3565.69 5029.6 2672.8 4455.6\n",
       "1997.365 3548.52 4988.4 2651.9 4519.3\n",
       "1997.369 3537.45 5016.0 2643.3 4537.5\n",
       "1997.373 3537.45 5016.0 2643.3 4580.4\n",
       "1997.377 3533.21 5004.7 2633.9 4630.9\n",
       "1997.381 3593.14 5042.5 2693.1 4669.6\n",
       "1997.385 3559.29 5084.2 2719.6 4691.0\n",
       "1997.388 3588.57 5134.3 2774.6 4686.9\n",
       "1997.392 3564.85 5141.7 2776.0 4681.2\n",
       "1997.396 3569.26 5157.5 2784.3 4693.9\n",
       "1997.400 3569.26 5157.5 2784.3 4645.2\n",
       "1997.404 3516.20 5081.0 2751.1 4607.5\n",
       "1997.408 3600.40 5178.6 2786.4 4642.0\n",
       "1997.412 3575.44 5176.4 2741.7 4651.8\n",
       "1997.415 3621.72 5181.0 2762.9 4661.8\n",
       "1997.419 3669.31 5196.7 2654.7 4661.8\n",
       "1997.423 3665.43 5190.0 2680.3 4681.6\n",
       "1997.427 3626.60 5133.1 2583.2 4677.5\n",
       "1997.431 3635.38 5132.1 2579.2 4672.3\n",
       "1997.435 3562.73 5041.6 2583.9 4621.3\n",
       "1997.438 3596.40 5150.0 2601.5 4562.8\n",
       "1997.442 3655.59 5207.2 2624.5 4557.8\n",
       "1997.446 3651.59 5238.5 2635.4 4557.1\n",
       "1997.450 3684.60 5251.2 2690.9 4576.2\n",
       "1997.454 3700.53 5320.0 2719.3 4645.0\n",
       "1997.458 3668.61 5368.8 2686.2 4686.7\n",
       "1997.462 3671.16 5361.9 2664.2 4739.6\n",
       "1997.465 3671.87 5308.6 2696.2 4724.8\n",
       "1997.469 3737.16 5364.2 2760.3 4757.4\n",
       "1997.473 3752.37 5384.6 2808.5 4783.1\n",
       "1997.477 3750.02 5362.0 2795.9 4745.1\n",
       "1997.481 3721.18 5345.9 2762.6 4682.2\n",
       "1997.485 3730.56 5405.0 2751.7 4657.0\n",
       "1997.488 3777.56 5510.3 2739.7 4653.7\n",
       "1997.492 3788.54 5561.8 2757.1 4593.9\n",
       "1997.496 3748.79 5587.8 2762.2 4575.8\n",
       "1997.500 3761.07 5576.1 2784.8 4596.3\n",
       "1997.504 3819.52 5662.4 2867.4 4640.0\n",
       "1997.508 3820.16 5669.9 2893.6 4657.9\n",
       "1997.512 3809.92 5700.3 2891.0 4640.3\n",
       "1997.515 3766.89 5620.6 2858.3 4604.6\n",
       "1997.519 3834.84 5654.8 2944.0 4728.3\n",
       "1997.523 3867.53 5674.3 2909.5 4751.4\n",
       "1997.527 3939.73 5804.9 2937.0 4831.7\n",
       "1997.531 3946.73 5846.5 2934.5 4812.8\n",
       "1997.535 4003.35 5947.0 2947.7 4810.7\n",
       "1997.538 4030.10 6012.6 2929.8 4758.5\n",
       "1997.542 4026.97 5977.1 2950.6 4762.4\n",
       "1997.546 4000.65 5885.4 2929.1 4767.8\n",
       "1997.550 4074.30 5801.5 2941.6 4799.5\n",
       "1997.554 4142.19 5845.8 2941.6 4857.4\n",
       "1997.558 4139.68 5844.7 2950.7 4899.3\n",
       "1997.562 4223.69 5927.5 2988.0 4964.2\n",
       "1997.565 4203.91 5868.3 2958.6 4949.0\n",
       "1997.569 4131.94 5737.1 2876.7 4877.2\n",
       "1997.573 4139.96 5620.5 2874.1 4805.7\n",
       "1997.577 4297.64 5677.1 2921.1 4846.7\n",
       "1997.581 4384.82 5869.9 3003.5 4874.5\n",
       "1997.585 4320.52 5849.2 2973.5 4862.9\n",
       "1997.588 4368.54 5847.0 3025.9 4851.5\n",
       "1997.592 4400.30 5888.0 3022.2 4862.6\n",
       "1997.596 4377.70 5842.1 3023.6 4876.6\n",
       "1997.600 4458.66 5929.5 3069.3 4927.3\n",
       "1997.604 4405.52 5898.2 3075.7 4907.5\n",
       "1997.608 4336.98 5898.2 3049.5 4899.3\n",
       "1997.612 4302.50 5771.0 2992.4 4895.7\n",
       "1997.615 4325.86 5765.2 2984.1 4960.6\n",
       "1997.619 4364.25 5812.1 3037.1 5026.2\n",
       "1997.623 4428.08 5922.1 3056.3 5086.8\n",
       "1997.627 4342.31 5864.8 2996.3 5031.3\n",
       "1997.631 4333.15 5825.6 2983.4 5031.9\n",
       "1997.635 4377.51 5808.4 2998.6 5075.8\n",
       "1997.638 4237.06 5682.1 2924.0 5003.6\n",
       "1997.642 4195.53 5579.5 2921.8 4991.3\n",
       "1997.646 4077.59 5498.5 2921.8 4865.8\n",
       "1997.650 4080.55 5405.6 2870.1 4835.0\n",
       "1997.654 4190.45 5580.1 2936.2 4914.2\n",
       "1997.658 4251.93 5690.1 2979.3 4958.4\n",
       "1997.662 4204.81 5668.8 2957.2 4978.0\n",
       "1997.665 4090.14 5475.8 2904.2 4901.1\n",
       "1997.669 4076.75 5473.9 2898.6 4901.1\n",
       "1997.673 3993.70 5363.3 2869.3 4886.3\n",
       "1997.677 3992.03 5409.6 2871.7 4906.9\n",
       "1997.681 3897.43 5217.3 2828.4 4845.4\n",
       "1997.685 3919.79 5216.7 2770.5 4817.5\n",
       "1997.688 4001.81 5271.5 2805.8 4870.2\n",
       "1997.692 4127.28 5447.5 2921.2 4952.2\n",
       "1997.696 4062.13 5478.6 2918.0 4976.9\n",
       "1997.700 4093.43 5478.1 2927.0 4991.3\n",
       "1997.704 4073.71 5532.9 2924.5 4994.2\n",
       "1997.708 4131.26 5505.3 2940.9 4985.2\n",
       "1997.712 4104.57 5445.1 2919.7 4950.5\n",
       "1997.715 4028.00 5356.7 2874.6 4905.2\n",
       "1997.719 3890.24 5280.8 2843.6 4854.8\n",
       "1997.723 3796.61 5281.9 2834.1 4848.2\n",
       "1997.727 3869.53 5321.7 2898.6 4902.9\n",
       "1997.731 3995.69 5417.8 2940.6 4976.4\n",
       "1997.735 3970.44 5550.4 2944.0 5013.1\n",
       "1997.738 4004.04 5629.0 2978.4 5046.2\n",
       "1997.742 3983.06 5611.0 2977.2 5023.8\n",
       "1997.746 4096.85 5705.1 3017.5 5075.7\n",
       "1997.750 4091.77 5730.4 2997.2 5027.5\n",
       "1997.754 4150.95 5732.5 3023.7 5077.2\n",
       "1997.758 4104.93 5667.1 3005.4 5065.5\n",
       "1997.762 4135.09 5716.6 2985.6 5226.3\n",
       "1997.765 4116.52 5691.8 2989.0 5220.3\n",
       "1997.769 4154.89 5673.6 3008.3 5244.2\n",
       "1997.773 4262.98 5754.7 3054.9 5317.1\n",
       "1997.777 4266.17 5825.0 3052.1 5296.1\n",
       "1997.781 4266.17 5929.0 3094.0 5330.8\n",
       "1997.785 4326.35 5897.4 3078.0 5300.0\n",
       "1997.788 4311.13 5846.9 3064.4 5305.6\n",
       "1997.792 4267.40 5822.3 3024.1 5262.1\n",
       "1997.796 4179.92 5732.2 2960.7 5217.8\n",
       "1997.800 4164.62 5699.5 2955.1 5227.3\n",
       "1997.804 4225.27 5792.8 3002.9 5300.1\n",
       "1997.808 4215.23 5836.3 3002.5 5298.9\n",
       "1997.812 4168.62 5815.9 2992.2 5263.7\n",
       "1997.815 4149.92 5806.8 2992.9 5287.9\n",
       "1997.819 4049.16 5751.6 2958.0 5271.1\n",
       "1997.823 4069.25 5777.2 2946.7 5211.0\n",
       "1997.827 4172.47 5862.9 2989.9 5225.9\n",
       "1997.831 4124.86 5803.2 2958.1 5148.8\n",
       "1997.835 3976.38 5651.8 2856.9 4991.5\n",
       "1997.838 3981.44 5689.5 2849.0 4970.2\n",
       "1997.842 3871.39 5533.5 2769.6 4840.7\n",
       "1997.846 3645.69 5279.7 2651.3 4755.4\n",
       "1997.850 3806.66 5479.0 2818.0 4871.8\n",
       "1997.854 3748.88 5370.9 2739.5 4801.9\n",
       "1997.858 3753.66 5467.2 2739.3 4842.3\n",
       "1997.862 3847.73 5581.6 2788.0 4906.4\n",
       "1997.865 3784.80 5538.2 2774.9 4897.4\n",
       "1997.869 3841.39 5601.6 2822.4 4908.3\n",
       "1997.873 3813.88 5557.4 2781.8 4863.8\n",
       "1997.877 3715.38 5438.6 2707.1 4764.3\n",
       "1997.881 3728.37 5459.7 2707.1 4806.8\n",
       "1997.885 3734.79 5483.9 2707.1 4793.7\n",
       "1997.888 3697.48 5434.0 2694.5 4720.4\n",
       "1997.892 3701.94 5418.2 2700.7 4711.0\n",
       "1997.896 3676.65 5437.0 2698.9 4741.8\n",
       "1997.900 3816.71 5565.0 2773.0 4867.0\n",
       "1997.904 3844.14 5574.2 2782.6 4845.4\n",
       "1997.908 3876.90 5571.7 2790.6 4830.1\n",
       "1997.912 3931.81 5650.4 2821.2 4908.4\n",
       "1997.915 3941.91 5725.5 2861.7 4985.8\n",
       "1997.919 3832.10 5645.7 2802.5 4898.6\n",
       "1997.923 3850.14 5666.3 2786.3 4863.5\n",
       "1997.927 3926.93 5738.3 2811.7 4891.2\n",
       "1997.931 3961.97 5772.4 2829.0 4889.0\n",
       "1997.935 3972.08 5775.9 2854.4 4831.8\n",
       "1997.938 4125.92 5875.1 2918.5 4921.8\n",
       "1997.942 4096.40 5919.9 2913.1 4977.6\n",
       "1997.946 4074.55 5922.7 2902.4 4970.7\n",
       "1997.950 4159.72 5969.5 2914.5 5082.3\n",
       "1997.954 4191.81 6009.0 2910.1 5142.9\n",
       "1997.958 4208.14 6095.3 2932.5 5187.4\n",
       "1997.962 4187.13 6103.2 2959.4 5177.1\n",
       "1997.965 4116.70 6056.6 2932.2 5130.7\n",
       "1997.969 4016.70 6021.8 2828.5 5035.9\n",
       "1997.973 4061.91 6018.7 2830.3 5045.2\n",
       "1997.977 4029.08 5986.6 2838.3 5121.8\n",
       "1997.981 4150.31 6092.7 2912.2 5203.4\n",
       "1997.985 4154.57 6122.1 2893.3 5190.8\n",
       "1997.988 4162.92 6115.1 2894.5 5168.3\n",
       "1997.992 4055.35 5989.9 2822.9 5020.2\n",
       "1997.996 4125.54 6049.3 2869.7 5018.2\n",
       "1998.000 4132.79 6044.7 2858.1 5049.8"
      ]
     },
     "metadata": {},
     "output_type": "display_data"
    }
   ],
   "source": [
    "window(EuStockMarkets, start = 1997, end = 1998)"
   ]
  },
  {
   "cell_type": "markdown",
   "id": "cce72ba6",
   "metadata": {},
   "source": [
    "Гистограммы"
   ]
  },
  {
   "cell_type": "markdown",
   "id": "d407edac",
   "metadata": {},
   "source": [
    "Продолжим сравнительный анализ инструментов исследования данных с явно и неявно выраженной временной зависимостью. Давайте построим гистограмму временного ряда подобно тому, как это делается в ходе анализа любых других данных. Кроме того, для более полного понимания временного ряда построим гистограмму разностей исходных данных, чтобы получить временную зависимость."
   ]
  },
  {
   "cell_type": "code",
   "execution_count": 8,
   "id": "351dd00a",
   "metadata": {},
   "outputs": [
    {
     "data": {
      "image/png": "[encoded data removed]",
      "text/plain": [
       "Plot with title \"Histogram of EuStockMarkets[, \"SMI\"]\""
      ]
     },
     "metadata": {
      "image/png": {
       "height": 420,
       "width": 420
      }
     },
     "output_type": "display_data"
    }
   ],
   "source": [
    "hist(EuStockMarkets [, \"SMI\"], 30)"
   ]
  },
  {
   "cell_type": "code",
   "execution_count": 9,
   "id": "5ae2e135",
   "metadata": {},
   "outputs": [
    {
     "data": {
      "image/png": "[encoded data removed]",
      "text/plain": [
       "Plot with title \"Histogram of diff(EuStockMarkets[, \"SMI\"], 30)\""
      ]
     },
     "metadata": {
      "image/png": {
       "height": 420,
       "width": 420
      }
     },
     "output_type": "display_data"
    }
   ],
   "source": [
    "hist(diff(EuStockMarkets [, \"SMI\"], 30))"
   ]
  },
  {
   "cell_type": "markdown",
   "id": "68c95994",
   "metadata": {},
   "source": [
    "Приведенный выше пример как нельзя лучше указывает на важность выбора правильной временной шкалы при выборке, обработке и анализе данных. Понимание того, демонстрируют акции высокую прибыль (долгосрочный график) или слабый рост (гистограмма разностей), напрямую зависит от типа временной шкалы — ориентируемся мы на сиюминутную выгоду или инвестируем в более долгосрочной перспективе."
   ]
  },
  {
   "cell_type": "markdown",
   "id": "9b2a38b5",
   "metadata": {},
   "source": [
    "Диаграммы рассеяния"
   ]
  },
  {
   "cell_type": "markdown",
   "id": "a23c42e0",
   "metadata": {},
   "source": [
    "Цена двух разных акций с течением времени"
   ]
  },
  {
   "cell_type": "code",
   "execution_count": 10,
   "id": "fe70dc40",
   "metadata": {},
   "outputs": [
    {
     "data": {
      "image/png": "[encoded data removed]",
      "text/plain": [
       "plot without title"
      ]
     },
     "metadata": {
      "image/png": {
       "height": 420,
       "width": 420
      }
     },
     "output_type": "display_data"
    }
   ],
   "source": [
    "plot( EuStockMarkets [, \"SMI\"], EuStockMarkets [, \"DAX\"])"
   ]
  },
  {
   "cell_type": "markdown",
   "id": "89f2ef2e",
   "metadata": {},
   "source": [
    "Разница (ежедневное изменение) цен двух акций с течением времени, вычисленная с помощью функции diff()"
   ]
  },
  {
   "cell_type": "code",
   "execution_count": 11,
   "id": "aa1ea317",
   "metadata": {},
   "outputs": [
    {
     "data": {
      "image/png": "[encoded data removed]",
      "text/plain": [
       "plot without title"
      ]
     },
     "metadata": {
      "image/png": {
       "height": 420,
       "width": 420
      }
     },
     "output_type": "display_data"
    }
   ],
   "source": [
    "plot (diff (EuStockMarkets [, \"SMI\"]), diff (EuStockMarkets [, \"DAX\"]))"
   ]
  },
  {
   "cell_type": "markdown",
   "id": "4de5e167",
   "metadata": {},
   "source": [
    "Скользящее окно"
   ]
  },
  {
   "cell_type": "markdown",
   "id": "d597adf9",
   "metadata": {},
   "source": [
    "Общепринятой в анализе временных рядов является оконная функция. Она представляется функцией любого типа и применяется для агрегации данных с целью последующего сжатия (понижения частоты дискретизации) или сглаживания)."
   ]
  },
  {
   "cell_type": "markdown",
   "id": "dabf352c",
   "metadata": {},
   "source": [
    "Для вычисления скользящего среднего и проведения некоторых других линейных вычислений над рядом точек данных применяется функция filter() стандартной библиотеки языка R."
   ]
  },
  {
   "cell_type": "code",
   "execution_count": 12,
   "id": "e1c1635d",
   "metadata": {},
   "outputs": [
    {
     "data": {
      "image/png": "[encoded data removed]",
      "text/plain": [
       "plot without title"
      ]
     },
     "metadata": {
      "image/png": {
       "height": 420,
       "width": 420
      }
     },
     "output_type": "display_data"
    }
   ],
   "source": [
    "x <- rnorm(n = 100, mean = 0, sd = 10) + 1:100\n",
    "mn <- function(n) rep(1/n, n)\n",
    "plot(x, type = 'l', lwd = 1)\n",
    "lines (filter (x, mn ( 5) ), col = 2, lwd = 3, lty = 2)\n",
    "lines (filter (x, mn(50)), col = 3, lwd = 3, lty = 3)"
   ]
  },
  {
   "cell_type": "markdown",
   "id": "dc342121",
   "metadata": {},
   "source": [
    "Если точки данных в окне нужно описать нелинейным образом, то придется отказаться от функции filter(), поскольку она основана исключительно на линейных способах преобразованиях данных. Рассмотрите функции пакета zoo, в частности функцию rollapply(), результат использования которой показан на рисунке ниже"
   ]
  },
  {
   "cell_type": "code",
   "execution_count": 13,
   "id": "7f235bc3",
   "metadata": {},
   "outputs": [
    {
     "name": "stderr",
     "output_type": "stream",
     "text": [
      "Загрузка требуемого пакета: zoo\n",
      "\n",
      "\n",
      "Присоединяю пакет: 'zoo'\n",
      "\n",
      "\n",
      "Следующие объекты скрыты от 'package:base':\n",
      "\n",
      "    as.Date, as.Date.numeric\n",
      "\n",
      "\n"
     ]
    },
    {
     "data": {
      "image/png": "[encoded data removed]",
      "text/plain": [
       "plot without title"
      ]
     },
     "metadata": {
      "image/png": {
       "height": 420,
       "width": 420
      }
     },
     "output_type": "display_data"
    }
   ],
   "source": [
    "require (zoo)\n",
    "f1 <- rollapply(zoo(x) , 20, function(w) min(w),\n",
    "align = \"left\", partial = TRUE)\n",
    "f2 <- rollapply (zoo (x), 20, function(w) min(w),\n",
    "align = \"right\", partial = TRUE)\n",
    "plot (x, lwd = 1, type = 'l')\n",
    "lines (f1, col = 2, lwd = 3, lty = 2)\n",
    "lines (f2, col = 3, lwd = 3, lty = 3)"
   ]
  },
  {
   "cell_type": "markdown",
   "id": "f121225f",
   "metadata": {},
   "source": [
    "Расширяющиеся окна"
   ]
  },
  {
   "cell_type": "markdown",
   "id": "435556f9",
   "metadata": {},
   "source": [
    "Расширяющиеся окна max (длинные штрихи) и mean (короткие штрихи). В первом случае расширяющееся окно отражает глобальный максимум до текущего момента времени, представленный монотонной функцией. Благодаря “долгосрочной памяти” кривая расширяющегося окна mean расположена ниже графика скользящего среднего (см. пред. рис.) — основной тренд в расширяющемся среднем выражен слабее. Хорошо это или плохо, зависит от исходных предположений о поведении исследуемой системы"
   ]
  },
  {
   "cell_type": "code",
   "execution_count": 14,
   "id": "e8913eaf",
   "metadata": {},
   "outputs": [
    {
     "data": {
      "image/png": "[encoded data removed]",
      "text/plain": [
       "plot without title"
      ]
     },
     "metadata": {
      "image/png": {
       "height": 420,
       "width": 420
      }
     },
     "output_type": "display_data"
    }
   ],
   "source": [
    "plot(x, type = 'l', lwd = 1) \n",
    "lines(cummax(x), col = 2, lwd = 3, lty = 2)   # max \n",
    "lines(cumsum(x)/1:length(x), col = 3, lwd = 3, lty = 3)  # mean"
   ]
  },
  {
   "cell_type": "markdown",
   "id": "c099432c",
   "metadata": {},
   "source": [
    "Для задания расширяющегося окна с произвольными настройками можно обратиться к функции rollapply(), используемой ранее при описании пользовательского скользящего окна. Отличие состоит в том, что в данном случае предстоит указать последовательность размеров окна, а не скаляр. При выполнении следующего кода создается график, идентичный показанному на рис. ниже, но теперь полученный с помощью функции rollapply(), а не встроенных инструментов языка R."
   ]
  },
  {
   "cell_type": "code",
   "execution_count": 15,
   "id": "00af96e6",
   "metadata": {},
   "outputs": [
    {
     "data": {
      "image/png": "[encoded data removed]",
      "text/plain": [
       "plot without title"
      ]
     },
     "metadata": {
      "image/png": {
       "height": 420,
       "width": 420
      }
     },
     "output_type": "display_data"
    }
   ],
   "source": [
    "plot(x, type = 'l', lwd = 1)\n",
    "lines(rollapply(zoo (x), seq_along(x) , function(w) max(w),\n",
    "partial = TRUE, align = \"right\"), col = 2, lwd = 3, lty = 2)\n",
    "lines (rollapply (zoo (x), seq_along(x), function(w) mean(w), \n",
    "partial = TRUE, align = \"right\"), col = 3, lwd = 3, lty = 3)"
   ]
  },
  {
   "cell_type": "markdown",
   "id": "611a58f8",
   "metadata": {},
   "source": [
    "Автокорреляционная функция"
   ]
  },
  {
   "cell_type": "markdown",
   "id": "a2fd8e92",
   "metadata": {},
   "source": [
    "Автокорреляция, также известная как корреляция рядов, — это корреляция сигнала с его смещенной во времени копией как функция смещения. В нестрогом понимании автокорреляция описывает сходство между наблюдениями как функцию временного сдвига между ними.\n",
    "А теперь перепишем это определение простым языком. Автокорреляция дает представление о линейной взаимосвязи точек данных, полученных в разные моменты времени, как о функции разницы времени их получения.\n",
    "Проще всего функция автокорреляции (AutoCorrelation Function — ACF) воспринимается в графическом виде. Для построения графика функции автокорреляции можно обратиться к базовым инструментам языка R.\n"
   ]
  },
  {
   "cell_type": "code",
   "execution_count": 16,
   "id": "ce2e8906",
   "metadata": {},
   "outputs": [],
   "source": [
    "##R использует радианы"
   ]
  },
  {
   "cell_type": "code",
   "execution_count": 17,
   "id": "7c05d319",
   "metadata": {},
   "outputs": [],
   "source": [
    "x = 1:100"
   ]
  },
  {
   "cell_type": "code",
   "execution_count": 18,
   "id": "cb82f5fb",
   "metadata": {},
   "outputs": [],
   "source": [
    "## Noiseless series"
   ]
  },
  {
   "cell_type": "code",
   "execution_count": 19,
   "id": "b8fa4ce1",
   "metadata": {},
   "outputs": [
    {
     "data": {
      "image/png": "[encoded data removed]",
      "text/plain": [
       "plot without title"
      ]
     },
     "metadata": {
      "image/png": {
       "height": 420,
       "width": 420
      }
     },
     "output_type": "display_data"
    },
    {
     "data": {
      "image/png": "[encoded data removed]",
      "text/plain": [
       "Plot with title \"Series  y\""
      ]
     },
     "metadata": {
      "image/png": {
       "height": 420,
       "width": 420
      }
     },
     "output_type": "display_data"
    }
   ],
   "source": [
    "y = sin(x * pi / 3) \n",
    "plot(y, type = 'b')\n",
    "acf(y)"
   ]
  },
  {
   "cell_type": "markdown",
   "id": "00ff5146",
   "metadata": {},
   "source": [
    "Корреляция в детерминированной системе"
   ]
  },
  {
   "cell_type": "markdown",
   "id": "84a99f2e",
   "metadata": {},
   "source": [
    "Автокорреляционная функция показывает, что точки с нулевым временным сдвигом имеют единичную корреляцию (верно для любого временного ряда), тогда как корреляция точек данных с единичным сдвигом составляет 0,5. При этом точки, разделенные двойным временным сдвигом, характеризуются корреляцией, равной -0,5, и т.д."
   ]
  },
  {
   "cell_type": "markdown",
   "id": "bed80ddb",
   "metadata": {},
   "source": [
    "Вычислить функцию ACF несложно. Попробуем сделать это самостоятельно, обратившись к функции shift () пакета data.table."
   ]
  },
  {
   "cell_type": "code",
   "execution_count": 20,
   "id": "edceb5f2",
   "metadata": {},
   "outputs": [],
   "source": [
    "library(\"data.table\")"
   ]
  },
  {
   "cell_type": "code",
   "execution_count": 21,
   "id": "8003f7b5",
   "metadata": {},
   "outputs": [
    {
     "data": {
      "text/html": [
       "0.500153115912332"
      ],
      "text/latex": [
       "0.500153115912332"
      ],
      "text/markdown": [
       "0.500153115912332"
      ],
      "text/plain": [
       "[1] 0.5001531"
      ]
     },
     "metadata": {},
     "output_type": "display_data"
    }
   ],
   "source": [
    "cor(y, shift(y, 1), use = \"pairwise.complete.obs\")"
   ]
  },
  {
   "cell_type": "code",
   "execution_count": 22,
   "id": "d1e69283",
   "metadata": {},
   "outputs": [
    {
     "data": {
      "text/html": [
       "-0.503715197153103"
      ],
      "text/latex": [
       "-0.503715197153103"
      ],
      "text/markdown": [
       "-0.503715197153103"
      ],
      "text/plain": [
       "[1] -0.5037152"
      ]
     },
     "metadata": {},
     "output_type": "display_data"
    }
   ],
   "source": [
    "cor(y, shift(y, 2), use = \"pairwise.complete.obs\")"
   ]
  },
  {
   "cell_type": "markdown",
   "id": "47d9eaa1",
   "metadata": {},
   "source": [
    "Частная автокорреляция"
   ]
  },
  {
   "cell_type": "markdown",
   "id": "57b6b9b8",
   "metadata": {},
   "source": [
    "Функция частной автокорреляции (Partial Autocorrelation Function — PACF) немного сложнее автокорреляционной функции. Частная автокорреляция временного ряда для заданного сдвига — это корреляция временного ряда с самим собой в этом смещении с учетом всей доступной информации между указанными двумя моментами времени."
   ]
  },
  {
   "cell_type": "markdown",
   "id": "5b54f256",
   "metadata": {},
   "source": [
    "Вычисление функции PACF — это нетривиальная задача, и для ее решения придумано большое количество методик. Мы не будем обсуждать, но вы можете найти их описание в документации к соответствующим инструментам языков R и Python (теория и формулы книга Бокс и Дженкинс – книга на флэшке).\n",
    "Как и ACF, функцию PACF легче изучать графически, чем концептуально. Ее важность в анализе данных также становится более очевидной при визуализации в отдельной области построения.\n"
   ]
  },
  {
   "cell_type": "code",
   "execution_count": 23,
   "id": "fb5be7bb",
   "metadata": {},
   "outputs": [
    {
     "data": {
      "image/png": "[encoded data removed]",
      "text/plain": [
       "plot without title"
      ]
     },
     "metadata": {
      "image/png": {
       "height": 420,
       "width": 420
      }
     },
     "output_type": "display_data"
    },
    {
     "data": {
      "image/png": "[encoded data removed]",
      "text/plain": [
       "Plot with title \"Series  y\""
      ]
     },
     "metadata": {
      "image/png": {
       "height": 420,
       "width": 420
      }
     },
     "output_type": "display_data"
    }
   ],
   "source": [
    "у = sin(x * pi /3)\n",
    "plot (у [1:30], type = 'b')\n",
    "pacf(y)"
   ]
  },
  {
   "cell_type": "markdown",
   "id": "7cfa3736",
   "metadata": {},
   "source": [
    "Функция PACF для временного ряда функции синуса сильно контрастирует с функцией АСЕ Функция PACF наглядно показывает, какие точки данных являются информативными, а какие выступают гармониками более коротких периодов времени. Для периодического процесса без шума, например, описываемого функцией синуса с периодом Т, то же самое значение ACF будет наблюдаться в периоды времени Т, 2Т, ЗТ и так далее вплоть до бесконечности. Функция ACF не в состоянии отсеять такие избыточные корреляции. С другой стороны, функция PACF показывает, какие корреляции для заданных сдвигов являются истинными, а какие — избыточными. Эти сведения оказываются неоценимыми при выборе длинного окна для достаточно большого количества данных в требуемом временном масштабе."
   ]
  },
  {
   "cell_type": "markdown",
   "id": "97d0758d",
   "metadata": {},
   "source": [
    "До настоящего момента нами рассматривались примеры только полностью бесшумных одночастотных процессов. Давайте изучим более сложный пример. Представим сигнал суммой двух синусоидальных функций в условиях нулевого, слабого и сильного шума. Для начала построим графики синусоид, лишенных шума, по отдельности"
   ]
  },
  {
   "cell_type": "code",
   "execution_count": 24,
   "id": "d08c11df",
   "metadata": {},
   "outputs": [
    {
     "data": {
      "image/png": "[encoded data removed]",
      "text/plain": [
       "plot without title"
      ]
     },
     "metadata": {
      "image/png": {
       "height": 420,
       "width": 420
      }
     },
     "output_type": "display_data"
    },
    {
     "data": {
      "image/png": "[encoded data removed]",
      "text/plain": [
       "Plot with title \"Series  y1\""
      ]
     },
     "metadata": {
      "image/png": {
       "height": 420,
       "width": 420
      }
     },
     "output_type": "display_data"
    },
    {
     "data": {
      "image/png": "[encoded data removed]",
      "text/plain": [
       "Plot with title \"Series  y1\""
      ]
     },
     "metadata": {
      "image/png": {
       "height": 420,
       "width": 420
      }
     },
     "output_type": "display_data"
    }
   ],
   "source": [
    "y1 = sin(x * pi / 3) \n",
    "plot(y1, type = 'b')\n",
    "acf(y1)\n",
    "pacf(y1)\n"
   ]
  },
  {
   "cell_type": "code",
   "execution_count": 25,
   "id": "8b6b8eb7",
   "metadata": {},
   "outputs": [
    {
     "data": {
      "image/png": "[encoded data removed]",
      "text/plain": [
       "plot without title"
      ]
     },
     "metadata": {
      "image/png": {
       "height": 420,
       "width": 420
      }
     },
     "output_type": "display_data"
    },
    {
     "data": {
      "image/png": "[encoded data removed]",
      "text/plain": [
       "Plot with title \"Series  y2\""
      ]
     },
     "metadata": {
      "image/png": {
       "height": 420,
       "width": 420
      }
     },
     "output_type": "display_data"
    },
    {
     "data": {
      "image/png": "[encoded data removed]",
      "text/plain": [
       "Plot with title \"Series  y2\""
      ]
     },
     "metadata": {
      "image/png": {
       "height": 420,
       "width": 420
      }
     },
     "output_type": "display_data"
    }
   ],
   "source": [
    "y2 = sin(x * pi / 10)\n",
    "plot(y2, type = 'b')\n",
    "acf(y2)\n",
    "pacf(y2) \n"
   ]
  },
  {
   "cell_type": "markdown",
   "id": "b229a1ae",
   "metadata": {},
   "source": [
    "Просуммируем два ряда и построим такие же графики для полученного результата"
   ]
  },
  {
   "cell_type": "code",
   "execution_count": 26,
   "id": "7115a49a",
   "metadata": {},
   "outputs": [
    {
     "data": {
      "image/png": "[encoded data removed]",
      "text/plain": [
       "plot without title"
      ]
     },
     "metadata": {
      "image/png": {
       "height": 420,
       "width": 420
      }
     },
     "output_type": "display_data"
    },
    {
     "data": {
      "image/png": "[encoded data removed]",
      "text/plain": [
       "Plot with title \"Series  y\""
      ]
     },
     "metadata": {
      "image/png": {
       "height": 420,
       "width": 420
      }
     },
     "output_type": "display_data"
    },
    {
     "data": {
      "image/png": "[encoded data removed]",
      "text/plain": [
       "Plot with title \"Series  y\""
      ]
     },
     "metadata": {
      "image/png": {
       "height": 420,
       "width": 420
      }
     },
     "output_type": "display_data"
    }
   ],
   "source": [
    "y = y1+y2\n",
    "plot(y, type = 'b')\n",
    "acf(y)\n",
    "pacf(y)"
   ]
  },
  {
   "cell_type": "markdown",
   "id": "9eee9b7b",
   "metadata": {},
   "source": [
    "Легко заметить, что график ACF полностью подчиняется упомянутому выше правилу: ACF суммы периодических рядов представляется суммой ACF отдельных рядов. В этом можно наглядно убедиться, изучив последовательность чередующихся положительных и отрицательных участков ACF, коррелирующих с более медленно осциллирующими значениями ACF. Внутри плавных волн отчетливо просматриваются более частые колебания высокочастотной составляющей ACF"
   ]
  },
  {
   "cell_type": "markdown",
   "id": "411948c3",
   "metadata": {},
   "source": [
    "Рассмотрим аналогичную ситуацию, но на этот раз с некоторым шумом"
   ]
  },
  {
   "cell_type": "code",
   "execution_count": 27,
   "id": "4fc83463",
   "metadata": {},
   "outputs": [
    {
     "data": {
      "image/png": "[encoded data removed]",
      "text/plain": [
       "Plot with title \"Series  y\""
      ]
     },
     "metadata": {
      "image/png": {
       "height": 420,
       "width": 420
      }
     },
     "output_type": "display_data"
    }
   ],
   "source": [
    "## R\n",
    "# Матрица графиков 3х3\n",
    "par(mfrow = c(3, 3))\n",
    "\n",
    "# Зашумление временных рядов\n",
    "noise1 = rnorm(100, sd = 0.05)\n",
    "noise2 = rnorm(100, sd = 0.05)\n",
    "\n",
    "y1 = y1 + noise1\n",
    "y2 = y2 + noise2\n",
    "y = y1 + y2\n",
    "\n",
    "plot(y1, type = 'b')\n",
    "acf(y1)\n",
    "pacf(y1)\n",
    "\n",
    "plot(y2, type = 'b')\n",
    "acf(y2)\n",
    "pacf(y2)\n",
    "\n",
    "plot(y, type = 'b')\n",
    "acf(y)\n",
    "pacf(y)"
   ]
  },
  {
   "cell_type": "markdown",
   "id": "5b96895e",
   "metadata": {},
   "source": [
    "Нестационарные данные"
   ]
  },
  {
   "cell_type": "markdown",
   "id": "646998fb",
   "metadata": {},
   "source": [
    "Посмотрим, как бyдyт выглядеть фyнкции acf и pacf для временного ряда с трендом, но лишенного периодических изменений"
   ]
  },
  {
   "cell_type": "code",
   "execution_count": 28,
   "id": "28ec2870",
   "metadata": {},
   "outputs": [
    {
     "data": {
      "image/png": "[encoded data removed]",
      "text/plain": [
       "plot without title"
      ]
     },
     "metadata": {
      "image/png": {
       "height": 420,
       "width": 420
      }
     },
     "output_type": "display_data"
    },
    {
     "data": {
      "image/png": "[encoded data removed]",
      "text/plain": [
       "Plot with title \"Series  х\""
      ]
     },
     "metadata": {
      "image/png": {
       "height": 420,
       "width": 420
      }
     },
     "output_type": "display_data"
    },
    {
     "data": {
      "image/png": "[encoded data removed]",
      "text/plain": [
       "Plot with title \"Series  х\""
      ]
     },
     "metadata": {
      "image/png": {
       "height": 420,
       "width": 420
      }
     },
     "output_type": "display_data"
    }
   ],
   "source": [
    "х = 1:100\n",
    "plot(x)\n",
    "acf (х)\n",
    "pacf(х)\n"
   ]
  },
  {
   "cell_type": "code",
   "execution_count": null,
   "id": "711d20a1",
   "metadata": {},
   "outputs": [],
   "source": []
  },
  {
   "cell_type": "code",
   "execution_count": null,
   "id": "f6c128aa",
   "metadata": {},
   "outputs": [],
   "source": []
  }
 ],
 "metadata": {
  "kernelspec": {
   "display_name": "R",
   "language": "R",
   "name": "ir"
  },
  "language_info": {
   "codemirror_mode": "r",
   "file_extension": ".r",
   "mimetype": "text/x-r-source",
   "name": "R",
   "pygments_lexer": "r",
   "version": "4.3.2"
  }
 },
 "nbformat": 4,
 "nbformat_minor": 5
}
